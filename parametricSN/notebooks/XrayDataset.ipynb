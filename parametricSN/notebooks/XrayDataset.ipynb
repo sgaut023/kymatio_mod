{
 "cells": [
  {
   "cell_type": "code",
   "execution_count": 34,
   "metadata": {},
   "outputs": [],
   "source": [
    "from glob import glob\n",
    "import shutil\n",
    "import os\n",
    "from tqdm import tqdm\n",
    "from zipfile import ZipFile\n",
    "import sys\n",
    "import pandas as pd"
   ]
  },
  {
   "cell_type": "markdown",
   "metadata": {},
   "source": [
    "# 1. Download KTH Dataset from URL "
   ]
  },
  {
   "cell_type": "code",
   "execution_count": 26,
   "metadata": {},
   "outputs": [],
   "source": [
    "target_path = '/NOBACKUP/gauthiers/test'\n",
    "dataset_path = '/NOBACKUP/gauthiers/kymatio_mod/covidx-cxr2.zip'"
   ]
  },
  {
   "cell_type": "code",
   "execution_count": 27,
   "metadata": {},
   "outputs": [
    {
     "data": {
      "text/plain": [
       "'/NOBACKUP/gauthiers/test/xray'"
      ]
     },
     "execution_count": 27,
     "metadata": {},
     "output_type": "execute_result"
    }
   ],
   "source": [
    "os.path.join(target_path, 'xray')"
   ]
  },
  {
   "cell_type": "markdown",
   "metadata": {},
   "source": [
    "# 2. Extract .tar and delete .tar"
   ]
  },
  {
   "cell_type": "code",
   "execution_count": 28,
   "metadata": {},
   "outputs": [
    {
     "name": "stderr",
     "output_type": "stream",
     "text": [
      "100%|██████████| 16753/16753 [05:36<00:00, 49.82it/s] \n"
     ]
    }
   ],
   "source": [
    "# Open your .zip file\n",
    "with ZipFile(file=dataset_path) as zip_file:\n",
    "    for file in tqdm(iterable=zip_file.namelist(), total=len(zip_file.namelist())):\n",
    "        zip_file.extract(member=file, path=os.path.join(target_path, 'xray'))\n",
    "os.remove(dataset_path)"
   ]
  },
  {
   "cell_type": "markdown",
   "metadata": {},
   "source": [
    "# 3. Create Dataset\n"
   ]
  },
  {
   "cell_type": "code",
   "execution_count": 33,
   "metadata": {},
   "outputs": [
    {
     "data": {
      "text/plain": [
       "['/NOBACKUP/gauthiers/test/xray/train.txt',\n",
       " '/NOBACKUP/gauthiers/test/xray/train',\n",
       " '/NOBACKUP/gauthiers/test/xray/test',\n",
       " '/NOBACKUP/gauthiers/test/xray/test.txt',\n",
       " '/NOBACKUP/gauthiers/test/xray/competition_test']"
      ]
     },
     "execution_count": 33,
     "metadata": {},
     "output_type": "execute_result"
    }
   ],
   "source": [
    "folders = glob(f\"{target_path}/xray/*\")\n",
    "folders"
   ]
  },
  {
   "cell_type": "markdown",
   "metadata": {},
   "source": [
    "## Create Train Folder"
   ]
  },
  {
   "cell_type": "code",
   "execution_count": 57,
   "metadata": {},
   "outputs": [
    {
     "data": {
      "text/html": [
       "<div>\n",
       "<style scoped>\n",
       "    .dataframe tbody tr th:only-of-type {\n",
       "        vertical-align: middle;\n",
       "    }\n",
       "\n",
       "    .dataframe tbody tr th {\n",
       "        vertical-align: top;\n",
       "    }\n",
       "\n",
       "    .dataframe thead th {\n",
       "        text-align: right;\n",
       "    }\n",
       "</style>\n",
       "<table border=\"1\" class=\"dataframe\">\n",
       "  <thead>\n",
       "    <tr style=\"text-align: right;\">\n",
       "      <th></th>\n",
       "      <th>patient_id</th>\n",
       "      <th>filename</th>\n",
       "      <th>class</th>\n",
       "      <th>data_source</th>\n",
       "    </tr>\n",
       "  </thead>\n",
       "  <tbody>\n",
       "    <tr>\n",
       "      <th>0</th>\n",
       "      <td>25</td>\n",
       "      <td>acute-respiratory-distress-syndrome-ards-1.jpg</td>\n",
       "      <td>negative</td>\n",
       "      <td>cohen</td>\n",
       "    </tr>\n",
       "    <tr>\n",
       "      <th>1</th>\n",
       "      <td>26</td>\n",
       "      <td>acute-respiratory-distress-syndrome-ards.jpg</td>\n",
       "      <td>negative</td>\n",
       "      <td>cohen</td>\n",
       "    </tr>\n",
       "    <tr>\n",
       "      <th>2</th>\n",
       "      <td>27</td>\n",
       "      <td>ards-secondary-to-tiger-snake-bite.png</td>\n",
       "      <td>negative</td>\n",
       "      <td>cohen</td>\n",
       "    </tr>\n",
       "    <tr>\n",
       "      <th>3</th>\n",
       "      <td>28</td>\n",
       "      <td>pneumocystis-pneumonia-2-PA.png</td>\n",
       "      <td>negative</td>\n",
       "      <td>cohen</td>\n",
       "    </tr>\n",
       "    <tr>\n",
       "      <th>4</th>\n",
       "      <td>38</td>\n",
       "      <td>F051E018-DAD1-4506-AD43-BE4CA29E960B.jpeg</td>\n",
       "      <td>negative</td>\n",
       "      <td>cohen</td>\n",
       "    </tr>\n",
       "  </tbody>\n",
       "</table>\n",
       "</div>"
      ],
      "text/plain": [
       "  patient_id                                        filename     class  \\\n",
       "0         25  acute-respiratory-distress-syndrome-ards-1.jpg  negative   \n",
       "1         26    acute-respiratory-distress-syndrome-ards.jpg  negative   \n",
       "2         27          ards-secondary-to-tiger-snake-bite.png  negative   \n",
       "3         28                 pneumocystis-pneumonia-2-PA.png  negative   \n",
       "4         38       F051E018-DAD1-4506-AD43-BE4CA29E960B.jpeg  negative   \n",
       "\n",
       "  data_source  \n",
       "0       cohen  \n",
       "1       cohen  \n",
       "2       cohen  \n",
       "3       cohen  \n",
       "4       cohen  "
      ]
     },
     "execution_count": 57,
     "metadata": {},
     "output_type": "execute_result"
    }
   ],
   "source": [
    "df_train = pd.read_csv(os.path.join(target_path, 'xray', 'train.txt'), delimiter=' ',\n",
    "                                        header = 0 )\n",
    "df_test = pd.read_csv(os.path.join(target_path, 'xray', 'test.txt'), delimiter=' ', header = 0)\n",
    "df_train.columns=['patient_id', 'filename', 'class', 'data_source']\n",
    "df_test.columns=['patient_id', 'filename', 'class', 'data_source']\n",
    "df_train.head(5)"
   ]
  },
  {
   "cell_type": "code",
   "execution_count": 74,
   "metadata": {},
   "outputs": [
    {
     "name": "stderr",
     "output_type": "stream",
     "text": [
      "100%|██████████| 15950/15950 [03:27<00:00, 77.04it/s] "
     ]
    },
    {
     "name": "stdout",
     "output_type": "stream",
     "text": [
      "CPU times: user 12.8 s, sys: 22.5 s, total: 35.3 s\n",
      "Wall time: 3min 27s\n"
     ]
    },
    {
     "name": "stderr",
     "output_type": "stream",
     "text": [
      "\n"
     ]
    }
   ],
   "source": [
    "%%time\n",
    "# iterate over rows in train dataframe\n",
    "folder_path = os.path.join(target_path, 'xray_preprocess/train')\n",
    "for index, row in tqdm(df_train.iterrows(), total=df_train.shape[0]):\n",
    "    if row['class']=='negative':\n",
    "        destination_path = os.path.join(folder_path, 'negative')\n",
    "    elif row['class']=='positive':\n",
    "        destination_path = os.path.join(folder_path, 'positive')\n",
    "    if not os.path.exists(destination_path):\n",
    "        os.makedirs(destination_path) \n",
    "    img = os.path.join(target_path, 'xray', 'train', row['filename'])\n",
    "    shutil.copy(img, destination_path )\n"
   ]
  },
  {
   "cell_type": "code",
   "execution_count": 76,
   "metadata": {},
   "outputs": [
    {
     "name": "stderr",
     "output_type": "stream",
     "text": [
      "100%|██████████| 399/399 [00:11<00:00, 34.37it/s] "
     ]
    },
    {
     "name": "stdout",
     "output_type": "stream",
     "text": [
      "CPU times: user 648 ms, sys: 1.76 s, total: 2.41 s\n",
      "Wall time: 11.6 s\n"
     ]
    },
    {
     "name": "stderr",
     "output_type": "stream",
     "text": [
      "\n"
     ]
    }
   ],
   "source": [
    "%%time\n",
    "# iterate over rows in test dataframe\n",
    "folder_path = os.path.join(target_path, 'xray_preprocess/test')\n",
    "for index, row in tqdm(df_test.iterrows(), total=df_test.shape[0]):\n",
    "    if row['class']=='negative':\n",
    "        destination_path = os.path.join(folder_path, 'negative')\n",
    "    elif row['class']=='positive':\n",
    "        destination_path = os.path.join(folder_path, 'positive')\n",
    "    if not os.path.exists(destination_path):\n",
    "        os.makedirs(destination_path) \n",
    "    img = os.path.join(target_path, 'xray', 'test', row['filename'])\n",
    "    shutil.copy(img, destination_path )"
   ]
  },
  {
   "cell_type": "code",
   "execution_count": null,
   "metadata": {},
   "outputs": [],
   "source": []
  }
 ],
 "metadata": {
  "kernelspec": {
   "display_name": "Python [conda env:.conda-parametricSN] *",
   "language": "python",
   "name": "conda-env-.conda-parametricSN-py"
  },
  "language_info": {
   "codemirror_mode": {
    "name": "ipython",
    "version": 3
   },
   "file_extension": ".py",
   "mimetype": "text/x-python",
   "name": "python",
   "nbconvert_exporter": "python",
   "pygments_lexer": "ipython3",
   "version": "3.7.0"
  }
 },
 "nbformat": 4,
 "nbformat_minor": 4
}
