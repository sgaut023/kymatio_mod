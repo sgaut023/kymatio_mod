{
 "cells": [
  {
   "cell_type": "code",
   "execution_count": 2,
   "metadata": {},
   "outputs": [],
   "source": [
    "from glob import glob\n",
    "import shutil\n",
    "import os\n",
    "from tqdm import tqdm\n",
    "import pandas as pd\n",
    "from pathlib import Path\n",
    "from PIL import Image\n",
    "import shutil"
   ]
  },
  {
   "cell_type": "markdown",
   "metadata": {},
   "source": [
    "# Test Set"
   ]
  },
  {
   "cell_type": "code",
   "execution_count": 103,
   "metadata": {},
   "outputs": [],
   "source": [
    "root = '/NOBACKUP/gauthiers/chest_xrays/test'\n",
    "test_df = pd.read_csv(f'{root }.txt',  header=None, sep=' ')"
   ]
  },
  {
   "cell_type": "code",
   "execution_count": 104,
   "metadata": {},
   "outputs": [],
   "source": [
    "test_df.columns = ['patient_id', 'filename', 'class', 'data_source' ]\n"
   ]
  },
  {
   "cell_type": "code",
   "execution_count": 105,
   "metadata": {},
   "outputs": [
    {
     "name": "stderr",
     "output_type": "stream",
     "text": [
      "400it [13:28,  2.02s/it]\n"
     ]
    }
   ],
   "source": [
    "for index, row in tqdm(test_df.iterrows()):\n",
    "    label = row['class']\n",
    "    destination_folder = Path(root.replace('chest_xrays', 'chest_xrays_preprocess'))/label\n",
    "    if not os.path.exists(destination_folder):\n",
    "        os.makedirs(destination_folder) \n",
    "    image_path = Path(root)/f'{row[\"filename\"]}'\n",
    "    img = Image.open(image_path)\n",
    "    img.save(str(destination_folder/row[\"filename\"]))\n"
   ]
  },
  {
   "cell_type": "markdown",
   "metadata": {},
   "source": [
    "# Training Set\n"
   ]
  },
  {
   "cell_type": "code",
   "execution_count": 107,
   "metadata": {},
   "outputs": [],
   "source": [
    "root = '/NOBACKUP/gauthiers/chest_xrays/train'\n",
    "train_df = pd.read_csv(f'{root }.txt',  header=None, sep=' ')\n",
    "train_df.columns = ['patient_id', 'filename', 'class', 'data_source' ]"
   ]
  },
  {
   "cell_type": "code",
   "execution_count": 108,
   "metadata": {},
   "outputs": [
    {
     "data": {
      "text/html": [
       "<div>\n",
       "<style scoped>\n",
       "    .dataframe tbody tr th:only-of-type {\n",
       "        vertical-align: middle;\n",
       "    }\n",
       "\n",
       "    .dataframe tbody tr th {\n",
       "        vertical-align: top;\n",
       "    }\n",
       "\n",
       "    .dataframe thead th {\n",
       "        text-align: right;\n",
       "    }\n",
       "</style>\n",
       "<table border=\"1\" class=\"dataframe\">\n",
       "  <thead>\n",
       "    <tr style=\"text-align: right;\">\n",
       "      <th></th>\n",
       "      <th>patient_id</th>\n",
       "      <th>filename</th>\n",
       "      <th>class</th>\n",
       "      <th>data_source</th>\n",
       "    </tr>\n",
       "  </thead>\n",
       "  <tbody>\n",
       "    <tr>\n",
       "      <th>0</th>\n",
       "      <td>5</td>\n",
       "      <td>ARDSSevere.png</td>\n",
       "      <td>negative</td>\n",
       "      <td>cohen</td>\n",
       "    </tr>\n",
       "    <tr>\n",
       "      <th>1</th>\n",
       "      <td>25</td>\n",
       "      <td>acute-respiratory-distress-syndrome-ards-1.jpg</td>\n",
       "      <td>negative</td>\n",
       "      <td>cohen</td>\n",
       "    </tr>\n",
       "    <tr>\n",
       "      <th>2</th>\n",
       "      <td>26</td>\n",
       "      <td>acute-respiratory-distress-syndrome-ards.jpg</td>\n",
       "      <td>negative</td>\n",
       "      <td>cohen</td>\n",
       "    </tr>\n",
       "    <tr>\n",
       "      <th>3</th>\n",
       "      <td>27</td>\n",
       "      <td>ards-secondary-to-tiger-snake-bite.png</td>\n",
       "      <td>negative</td>\n",
       "      <td>cohen</td>\n",
       "    </tr>\n",
       "    <tr>\n",
       "      <th>4</th>\n",
       "      <td>28</td>\n",
       "      <td>pneumocystis-pneumonia-2-PA.png</td>\n",
       "      <td>negative</td>\n",
       "      <td>cohen</td>\n",
       "    </tr>\n",
       "    <tr>\n",
       "      <th>...</th>\n",
       "      <td>...</td>\n",
       "      <td>...</td>\n",
       "      <td>...</td>\n",
       "      <td>...</td>\n",
       "    </tr>\n",
       "    <tr>\n",
       "      <th>15946</th>\n",
       "      <td>c1628c47-5ba3-42dd-8df3-7ad3abd57ad0</td>\n",
       "      <td>c1628c47-5ba3-42dd-8df3-7ad3abd57ad0.png</td>\n",
       "      <td>negative</td>\n",
       "      <td>rsna</td>\n",
       "    </tr>\n",
       "    <tr>\n",
       "      <th>15947</th>\n",
       "      <td>c1cddf32-b957-4753-acaa-472ab1447e86</td>\n",
       "      <td>c1cddf32-b957-4753-acaa-472ab1447e86.png</td>\n",
       "      <td>negative</td>\n",
       "      <td>rsna</td>\n",
       "    </tr>\n",
       "    <tr>\n",
       "      <th>15948</th>\n",
       "      <td>c1e73a4e-7afe-4ec5-8af6-ce8315d7a2f2</td>\n",
       "      <td>c1e73a4e-7afe-4ec5-8af6-ce8315d7a2f2.png</td>\n",
       "      <td>negative</td>\n",
       "      <td>rsna</td>\n",
       "    </tr>\n",
       "    <tr>\n",
       "      <th>15949</th>\n",
       "      <td>c1ec14ff-f6d7-4b38-b0cb-fe07041cbdc8</td>\n",
       "      <td>c1ec14ff-f6d7-4b38-b0cb-fe07041cbdc8.png</td>\n",
       "      <td>negative</td>\n",
       "      <td>rsna</td>\n",
       "    </tr>\n",
       "    <tr>\n",
       "      <th>15950</th>\n",
       "      <td>c1f7889a-9ea9-4acb-b64c-b737c929599a</td>\n",
       "      <td>c1f7889a-9ea9-4acb-b64c-b737c929599a.png</td>\n",
       "      <td>negative</td>\n",
       "      <td>rsna</td>\n",
       "    </tr>\n",
       "  </tbody>\n",
       "</table>\n",
       "<p>15951 rows × 4 columns</p>\n",
       "</div>"
      ],
      "text/plain": [
       "                                 patient_id  \\\n",
       "0                                         5   \n",
       "1                                        25   \n",
       "2                                        26   \n",
       "3                                        27   \n",
       "4                                        28   \n",
       "...                                     ...   \n",
       "15946  c1628c47-5ba3-42dd-8df3-7ad3abd57ad0   \n",
       "15947  c1cddf32-b957-4753-acaa-472ab1447e86   \n",
       "15948  c1e73a4e-7afe-4ec5-8af6-ce8315d7a2f2   \n",
       "15949  c1ec14ff-f6d7-4b38-b0cb-fe07041cbdc8   \n",
       "15950  c1f7889a-9ea9-4acb-b64c-b737c929599a   \n",
       "\n",
       "                                             filename     class data_source  \n",
       "0                                      ARDSSevere.png  negative       cohen  \n",
       "1      acute-respiratory-distress-syndrome-ards-1.jpg  negative       cohen  \n",
       "2        acute-respiratory-distress-syndrome-ards.jpg  negative       cohen  \n",
       "3              ards-secondary-to-tiger-snake-bite.png  negative       cohen  \n",
       "4                     pneumocystis-pneumonia-2-PA.png  negative       cohen  \n",
       "...                                               ...       ...         ...  \n",
       "15946        c1628c47-5ba3-42dd-8df3-7ad3abd57ad0.png  negative        rsna  \n",
       "15947        c1cddf32-b957-4753-acaa-472ab1447e86.png  negative        rsna  \n",
       "15948        c1e73a4e-7afe-4ec5-8af6-ce8315d7a2f2.png  negative        rsna  \n",
       "15949        c1ec14ff-f6d7-4b38-b0cb-fe07041cbdc8.png  negative        rsna  \n",
       "15950        c1f7889a-9ea9-4acb-b64c-b737c929599a.png  negative        rsna  \n",
       "\n",
       "[15951 rows x 4 columns]"
      ]
     },
     "execution_count": 108,
     "metadata": {},
     "output_type": "execute_result"
    }
   ],
   "source": [
    "train_df"
   ]
  },
  {
   "cell_type": "code",
   "execution_count": 110,
   "metadata": {},
   "outputs": [
    {
     "name": "stderr",
     "output_type": "stream",
     "text": [
      "15951it [07:49, 33.97it/s]\n"
     ]
    }
   ],
   "source": [
    "for index, row in tqdm(train_df.iterrows()):\n",
    "    label = row['class']\n",
    "    destination_folder = Path(root.replace('chest_xrays', 'chest_xrays_preprocess'))/label\n",
    "    if not os.path.exists(destination_folder):\n",
    "        os.makedirs(destination_folder) \n",
    "    image_path = Path(root)/f'{row[\"filename\"]}'\n",
    "    shutil.copy(image_path, str(destination_folder/row[\"filename\"]))\n"
   ]
  },
  {
   "cell_type": "code",
   "execution_count": 100,
   "metadata": {},
   "outputs": [
    {
     "data": {
      "text/plain": [
       "PosixPath('/NOBACKUP/gauthiers/chest_xrays_preprocess/train/negative')"
      ]
     },
     "execution_count": 100,
     "metadata": {},
     "output_type": "execute_result"
    }
   ],
   "source": [
    "destination_folder"
   ]
  },
  {
   "cell_type": "code",
   "execution_count": 93,
   "metadata": {},
   "outputs": [
    {
     "data": {
      "text/plain": [
       "PosixPath('/NOBACKUP/gauthiers/chest_xrays/train/ARDSSevere.png')"
      ]
     },
     "execution_count": 93,
     "metadata": {},
     "output_type": "execute_result"
    }
   ],
   "source": [
    "image_path"
   ]
  },
  {
   "cell_type": "code",
   "execution_count": 94,
   "metadata": {},
   "outputs": [
    {
     "data": {
      "text/plain": [
       "'/NOBACKUP/gauthiers/chest_xrays_preprocess/test/positive/MIDRC-RICORD-1C-419639-003251-46647-0.png/ARDSSevere.png'"
      ]
     },
     "execution_count": 94,
     "metadata": {},
     "output_type": "execute_result"
    }
   ],
   "source": [
    "str(destination_path/row[\"filename\"])"
   ]
  },
  {
   "cell_type": "code",
   "execution_count": null,
   "metadata": {},
   "outputs": [],
   "source": [
    "test_df.to_csv('/NOBACKUP/gauthiers/chest_xrays_preprocess/test.csv')\n",
    "train_df.to_csv('/NOBACKUP/gauthiers/chest_xrays_preprocess/train.csv')"
   ]
  },
  {
   "cell_type": "code",
   "execution_count": 1,
   "metadata": {},
   "outputs": [],
   "source": [
    "import matplotlib.pyplot as plt"
   ]
  },
  {
   "cell_type": "code",
   "execution_count": 28,
   "metadata": {},
   "outputs": [],
   "source": [
    "positive = glob('/NOBACKUP/gauthiers/chest_xrays_preprocess/train/positive/*')\n",
    "negative = glob('/NOBACKUP/gauthiers/chest_xrays_preprocess/train/negative/*')"
   ]
  },
  {
   "cell_type": "code",
   "execution_count": 31,
   "metadata": {},
   "outputs": [],
   "source": [
    "image_paths= [positive[3],positive[397], negative[76], negative[56], positive[20],positive[31]]\n"
   ]
  },
  {
   "cell_type": "code",
   "execution_count": 32,
   "metadata": {},
   "outputs": [
    {
     "ename": "IndexError",
     "evalue": "list index out of range",
     "output_type": "error",
     "traceback": [
      "\u001b[0;31m---------------------------------------------------------------------------\u001b[0m",
      "\u001b[0;31mIndexError\u001b[0m                                Traceback (most recent call last)",
      "\u001b[0;32m<ipython-input-32-6b9c379355e8>\u001b[0m in \u001b[0;36m<module>\u001b[0;34m\u001b[0m\n\u001b[1;32m     14\u001b[0m     \u001b[0;32mfor\u001b[0m \u001b[0mj\u001b[0m \u001b[0;32min\u001b[0m \u001b[0mrange\u001b[0m\u001b[0;34m(\u001b[0m\u001b[0;36m0\u001b[0m\u001b[0;34m,\u001b[0m \u001b[0mnum_col\u001b[0m\u001b[0;34m)\u001b[0m \u001b[0;34m:\u001b[0m\u001b[0;34m\u001b[0m\u001b[0m\n\u001b[1;32m     15\u001b[0m         \u001b[0;31m# adding padding\u001b[0m\u001b[0;34m\u001b[0m\u001b[0;34m\u001b[0m\u001b[0m\n\u001b[0;32m---> 16\u001b[0;31m         \u001b[0mx\u001b[0m \u001b[0;34m=\u001b[0m \u001b[0mImage\u001b[0m\u001b[0;34m.\u001b[0m\u001b[0mopen\u001b[0m\u001b[0;34m(\u001b[0m\u001b[0mimage_paths\u001b[0m\u001b[0;34m[\u001b[0m\u001b[0mcount\u001b[0m\u001b[0;34m]\u001b[0m\u001b[0;34m)\u001b[0m\u001b[0;34m\u001b[0m\u001b[0m\n\u001b[0m\u001b[1;32m     17\u001b[0m         \u001b[0maxarr\u001b[0m\u001b[0;34m[\u001b[0m\u001b[0mi\u001b[0m\u001b[0;34m,\u001b[0m\u001b[0mj\u001b[0m\u001b[0;34m]\u001b[0m\u001b[0;34m.\u001b[0m\u001b[0mimshow\u001b[0m\u001b[0;34m(\u001b[0m\u001b[0mx\u001b[0m\u001b[0;34m,\u001b[0m \u001b[0mcmap\u001b[0m\u001b[0;34m=\u001b[0m\u001b[0;34m'gray'\u001b[0m\u001b[0;34m)\u001b[0m\u001b[0;34m\u001b[0m\u001b[0m\n\u001b[1;32m     18\u001b[0m         \u001b[0;31m#axarr[i,j].set_title(f\"J:{psi[count]['j']} L: {psi[count]['theta']}\")\u001b[0m\u001b[0;34m\u001b[0m\u001b[0;34m\u001b[0m\u001b[0m\n",
      "\u001b[0;31mIndexError\u001b[0m: list index out of range"
     ]
    }
   ],
   "source": [
    "'''\n",
    "    Function that logs the metrics on MLFLOW\n",
    "    Params: \n",
    "    filters: psi filters\n",
    "    num_row: number of rows in the visualization\n",
    "    num_col: number of columns in the visualization\n",
    "    mode: fourier, real or imag\n",
    "'''\n",
    "num_row= 2\n",
    "num_col =3\n",
    "f, axarr = plt.subplots(num_row,num_col, figsize=(7, 4))\n",
    "count = 0\n",
    "for i in range(0, num_row) :\n",
    "    for j in range(0, num_col) :\n",
    "        # adding padding\n",
    "        x = Image.open(image_paths[count])\n",
    "        axarr[i,j].imshow(x, cmap='gray')\n",
    "        #axarr[i,j].set_title(f\"J:{psi[count]['j']} L: {psi[count]['theta']}\")\n",
    "        axarr[i,j].axis('off')\n",
    "        count = count +1\n",
    "        axarr[i,j].set_xticklabels([])\n",
    "        axarr[i,j].set_yticklabels([])\n",
    "        axarr[i,j].set_aspect('equal')\n",
    "        count  +=1\n",
    "\n",
    "f.subplots_adjust(wspace=0, hspace=0.1)\n",
    "plt.show()"
   ]
  },
  {
   "cell_type": "code",
   "execution_count": 22,
   "metadata": {},
   "outputs": [
    {
     "data": {
      "text/plain": [
       "'/NOBACKUP/gauthiers/chest_xrays_preprocess/train/positive/COVID(907).png'"
      ]
     },
     "execution_count": 22,
     "metadata": {},
     "output_type": "execute_result"
    }
   ],
   "source": [
    "image_paths[0]"
   ]
  },
  {
   "cell_type": "code",
   "execution_count": 33,
   "metadata": {},
   "outputs": [
    {
     "data": {
      "text/plain": [
       "6"
      ]
     },
     "execution_count": 33,
     "metadata": {},
     "output_type": "execute_result"
    }
   ],
   "source": [
    "count"
   ]
  },
  {
   "cell_type": "code",
   "execution_count": null,
   "metadata": {},
   "outputs": [],
   "source": []
  }
 ],
 "metadata": {
  "kernelspec": {
   "display_name": "Python [conda env:.conda-ultra] *",
   "language": "python",
   "name": "conda-env-.conda-ultra-py"
  },
  "language_info": {
   "codemirror_mode": {
    "name": "ipython",
    "version": 3
   },
   "file_extension": ".py",
   "mimetype": "text/x-python",
   "name": "python",
   "nbconvert_exporter": "python",
   "pygments_lexer": "ipython3",
   "version": "3.7.0"
  }
 },
 "nbformat": 4,
 "nbformat_minor": 4
}
