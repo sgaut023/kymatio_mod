{
 "cells": [
  {
   "cell_type": "markdown",
   "id": "4d0ecb6e",
   "metadata": {
    "colab_type": "text",
    "id": "view-in-github"
   },
   "source": [
    "<a href=\"https://colab.research.google.com/github/sgaut023/kymatio_mod/blob/master/parametricSN/notebooks/FilterParamsEffectColab.ipynb\" target=\"_parent\"><img src=\"https://colab.research.google.com/assets/colab-badge.svg\" alt=\"Open In Colab\"/></a>"
   ]
  },
  {
   "cell_type": "markdown",
   "id": "8ce749c0",
   "metadata": {
    "id": "8ce749c0"
   },
   "source": [
    "# Visualization of the Effect of Wavelet Filters\n",
    "\n",
    "### This notebook visualizes the effect of the four parameters used to create the Morlet wavelet filters, which are described in the following table.\n",
    "![image.png](data:image/png;base64,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)\n",
    "### Instructions: run all the cells sequentially and interact if you wish with the sliders on the last cell."
   ]
  },
  {
   "cell_type": "code",
   "execution_count": null,
   "id": "v89ClVTvyD5J",
   "metadata": {
    "id": "v89ClVTvyD5J"
   },
   "outputs": [],
   "source": [
    "!git clone https://github.com/sgaut023/kymatio_mod "
   ]
  },
  {
   "cell_type": "code",
   "execution_count": null,
   "id": "20efc66e-0b92-4504-b50f-890b139d84b1",
   "metadata": {
    "id": "20efc66e-0b92-4504-b50f-890b139d84b1"
   },
   "outputs": [],
   "source": [
    "import sys\n",
    "import os\n",
    "from pathlib import Path \n",
    "sys.path.append(str(os.path.join(Path.cwd(),\"kymatio_mod\")))\n",
    "import numpy as np\n",
    "from kymatio.scattering2d.core.scattering2d import scattering2d\n",
    "import matplotlib.pyplot as plt\n",
    "import torch\n",
    "from kymatio import Scattering2D\n",
    "from parametricSN.models.create_filters import *"
   ]
  },
  {
   "cell_type": "code",
   "execution_count": null,
   "id": "c92552c6-c5a9-4119-b78e-0f0c7155f2ad",
   "metadata": {
    "id": "c92552c6-c5a9-4119-b78e-0f0c7155f2ad"
   },
   "outputs": [],
   "source": [
    "def create_filter(theta,slant,xi,sigma):\n",
    "    n_filters = 1\n",
    "    device = None\n",
    "\n",
    "    orientations = np.array([theta]) \n",
    "    slants = np.array([slant])\n",
    "    xis = np.array([xi])\n",
    "    sigmas = np.array([sigma])\n",
    "\n",
    "    xis = torch.tensor(xis, dtype=torch.float32, device=device)\n",
    "    sigmas = torch.tensor(sigmas, dtype=torch.float32, device=device)\n",
    "    slants = torch.tensor(slants, dtype=torch.float32, device=device)\n",
    "    orientations = torch.tensor(orientations, dtype=torch.float32, device=device)  \n",
    "\n",
    "    shape = (32, 32,)\n",
    "    ranges = [torch.arange(-(s // 2), -(s // 2) + s, device=device, dtype=torch.float) for s in shape]\n",
    "    grid = torch.stack(torch.meshgrid(*ranges), 0)\n",
    "    wavelet = morlets(grid, orientations, xis, sigmas, slants, device=device)\n",
    "    \n",
    "    return wavelet\n",
    "\n",
    "def visualizeFiltersDynamic(offsettheta=0.0,\n",
    "                               offsetslant=0.0,\n",
    "                               offsetxi=0.0,\n",
    "                               offsetsigma=0.0,\n",
    "                               ):\n",
    "    f, axarr = plt.subplots(6,3,figsize=(4, 8))\n",
    "    names = ['Ref','Theta','Slant','Xi','Sigma',\"All\"]\n",
    "    modes = ['fourier','real', 'imag']\n",
    "    j=1\n",
    "    \n",
    "    theta=np.pi/2\n",
    "    slant=0.5\n",
    "    xi= 3.0 / 4.0 * np.pi /2**(1)\n",
    "    sigma=0.8 * 2**(1)\n",
    "    for i,name in enumerate(names):\n",
    "        if i==0:\n",
    "            wavelet = create_filter(theta,slant,xi,sigma) \n",
    "        elif i==1:\n",
    "            wavelet = create_filter(theta+offsettheta,slant,xi,sigma)\n",
    "        elif i==2:\n",
    "            wavelet = create_filter(theta,slant+offsetslant,xi,sigma)\n",
    "        elif i==3:\n",
    "            wavelet = create_filter(theta,slant,xi+offsetxi,sigma)\n",
    "        elif i==4:\n",
    "            wavelet = create_filter(theta,slant,xi,sigma+offsetsigma)\n",
    "        elif i==5:\n",
    "            wavelet = create_filter(theta+offsettheta,slant+offsetslant,xi+offsetxi,sigma+offsetsigma)    \n",
    "            \n",
    "        for j,mode in enumerate(modes):\n",
    "            if mode == 'fourier':\n",
    "                x =np.fft.fftshift(wavelet.squeeze().cpu().detach().numpy()).real\n",
    "                if i==0:\n",
    "                    axarr[i,j].set_title(f\"Frequencies\")\n",
    "            elif mode == 'real':\n",
    "                x= np.fft.fftshift(np.fft.ifft2(wavelet.squeeze().cpu().detach().numpy())).real\n",
    "                if i==0:\n",
    "                    axarr[i,j].set_title(f\"Real part\")\n",
    "            elif mode == 'imag':\n",
    "                x= np.fft.fftshift(np.fft.ifft2(wavelet.squeeze().cpu().detach().numpy())).imag\n",
    "                if i==0:\n",
    "                    axarr[i,j].set_title(f\"Imaginary part\")\n",
    "            else:\n",
    "                raise NotImplemented(f\"Model {params['name']} not implemented\")\n",
    "\n",
    "            a=np.abs(x).max()\n",
    "            axarr[i,j].imshow(x, vmin=-a, vmax=a)\n",
    "            axarr[i,j].set_xticklabels([])\n",
    "            axarr[i,j].set_yticklabels([])\n",
    "            axarr[i,j].set_xticks([])\n",
    "            axarr[i,j].set_yticks([])\n",
    "            axarr[i,j].set_aspect('equal')\n",
    "\n",
    "    for idx,ax in enumerate(axarr[:,0].flat):\n",
    "        ax.set(ylabel=names[idx])\n",
    "\n",
    "    f.tight_layout()\n",
    "    \n",
    "def visualizeFiltersRef(offset,filename=\"\",save=False):\n",
    "    f, axarr = plt.subplots(5,3,figsize=(5, 8))\n",
    "    names = ['Ref','Theta offset','Slant offset','Xi offset','Sigma offset']\n",
    "    modes = ['fourier','real', 'imag']\n",
    "    j=1\n",
    "    offset = offset\n",
    "    theta = np.pi/2\n",
    "    slant = 0.5\n",
    "    xi = 3.0 / 4.0 * np.pi /2**j\n",
    "    sigma = 0.8 * 2**j\n",
    "    for i,name in enumerate(names):\n",
    "        if i == 0:\n",
    "            wavelet = create_filter(theta,slant,xi,sigma)\n",
    "        elif i==1:\n",
    "            wavelet = create_filter(theta+offset,slant,xi,sigma)\n",
    "        elif i==2:\n",
    "            wavelet = create_filter(theta,slant+offset,xi,sigma)\n",
    "        elif i==3:\n",
    "            wavelet = create_filter(theta,slant,xi+offset,sigma)\n",
    "        elif i==4:\n",
    "            wavelet = create_filter(theta,slant,xi,sigma+offset)\n",
    "        for j,mode in enumerate(modes):\n",
    "            if mode =='fourier':\n",
    "                x =np.fft.fftshift(wavelet.squeeze().cpu().detach().numpy()).real\n",
    "                if i==0:\n",
    "                    axarr[i,j].set_title(f\"Frequencies\")\n",
    "            elif mode == 'real':\n",
    "                x= np.fft.fftshift(np.fft.ifft2(wavelet.squeeze().cpu().detach().numpy())).real\n",
    "                if i==0:\n",
    "                    axarr[i,j].set_title(f\"Real part\")\n",
    "            elif mode == 'imag':\n",
    "                x= np.fft.fftshift(np.fft.ifft2(wavelet.squeeze().cpu().detach().numpy())).imag\n",
    "                if i==0:\n",
    "                    axarr[i,j].set_title(f\"Imaginary part\")\n",
    "            else:\n",
    "                raise NotImplemented(f\"Model {params['name']} not implemented\")\n",
    "\n",
    "            a=np.abs(x).max()\n",
    "            axarr[i,j].imshow(x, vmin=-a, vmax=a)\n",
    "            axarr[i,j].set_xticklabels([])\n",
    "            axarr[i,j].set_yticklabels([])\n",
    "            axarr[i,j].set_xticks([])\n",
    "            axarr[i,j].set_yticks([])\n",
    "            axarr[i,j].set_aspect('equal')\n",
    "\n",
    "    for idx,ax in enumerate(axarr[:,0].flat):\n",
    "        ax.set(ylabel=names[idx])\n",
    "\n",
    "    f.tight_layout()\n",
    "    if save:\n",
    "        if filename == '':\n",
    "            print(\"no filename specified\")\n",
    "            raise Exception\n",
    "            \n",
    "        f.savefig(filename)"
   ]
  },
  {
   "cell_type": "code",
   "execution_count": null,
   "id": "d5ab2235-35d8-4394-9a29-12a11ccf8484",
   "metadata": {
    "id": "d5ab2235-35d8-4394-9a29-12a11ccf8484"
   },
   "outputs": [],
   "source": [
    "%matplotlib inline\n",
    "visualizeFiltersRef(offset=0.75,filename=\"\",save=False)"
   ]
  },
  {
   "cell_type": "code",
   "execution_count": null,
   "id": "Q88FANsX0v1m",
   "metadata": {
    "id": "Q88FANsX0v1m"
   },
   "outputs": [],
   "source": [
    "# Code from https://stackoverflow.com/questions/52859983/interactive-matplotlib-figures-in-google-colab/55435199#55435199\n",
    "\n",
    "import datetime\n",
    "from datetime import date\n",
    "import pandas as pd\n",
    "import numpy as np\n",
    "from plotly import __version__\n",
    "%matplotlib inline\n",
    "\n",
    "import plotly.offline as pyo\n",
    "import plotly.graph_objs as go\n",
    "from plotly.offline import iplot\n",
    "\n",
    "import cufflinks as cf\n",
    "from plotly.offline import download_plotlyjs, init_notebook_mode, plot, iplot \n",
    "\n",
    "\n",
    "cf.go_offline()\n",
    "init_notebook_mode(connected=False)\n",
    "def configure_plotly_browser_state():\n",
    "  import IPython\n",
    "  display(IPython.core.display.HTML('''\n",
    "        <script src=\"/static/components/requirejs/require.js\"></script>\n",
    "        <script>\n",
    "          requirejs.config({\n",
    "            paths: {\n",
    "              base: '/static/base',\n",
    "              plotly: 'https://cdn.plot.ly/plotly-1.5.1.min.js?noext',\n",
    "            },\n",
    "          });\n",
    "        </script>\n",
    "        '''))"
   ]
  },
  {
   "cell_type": "markdown",
   "id": "a3dc1041",
   "metadata": {
    "id": "a3dc1041"
   },
   "source": [
    "### The figure below is interactive. You can change the value of the four different parameters and observe the effect. The visualization presents the wavelet in the frequency domain, the real part and the imaginary part. Ref stands for a reference filter. The four following rows present a change in only one parameter, which can be modified by its offset slider. The last row is a combination of all the changes of the parameters."
   ]
  },
  {
   "cell_type": "code",
   "execution_count": null,
   "id": "486e8fe0",
   "metadata": {
    "id": "486e8fe0"
   },
   "outputs": [],
   "source": [
    "configure_plotly_browser_state()\n",
    "\n",
    "from ipywidgets import interact\n",
    "import ipywidgets as widgets\n",
    "j=1\n",
    "interact(visualizeFiltersDynamic,offsettheta=(-1.0,1.0),\n",
    "                               offsetslant=(-0.25,0.25),\n",
    "                               offsetxi=(-0.5,0.5),\n",
    "                               offsetsigma=(-0.5,0.5),\n",
    "                               )"
   ]
  }
 ],
 "metadata": {
  "colab": {
   "include_colab_link": true,
   "name": "FilterParamsEffect.ipynb",
   "provenance": []
  },
  "kernelspec": {
   "display_name": "Python 3",
   "language": "python",
   "name": "python3"
  },
  "language_info": {
   "codemirror_mode": {
    "name": "ipython",
    "version": 3
   },
   "file_extension": ".py",
   "mimetype": "text/x-python",
   "name": "python",
   "nbconvert_exporter": "python",
   "pygments_lexer": "ipython3",
   "version": "3.8.10"
  }
 },
 "nbformat": 4,
 "nbformat_minor": 5
}
