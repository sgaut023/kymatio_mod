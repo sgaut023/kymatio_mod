{
 "cells": [
  {
   "cell_type": "code",
   "execution_count": 1,
   "metadata": {},
   "outputs": [],
   "source": [
    "\"\"\"\n",
    "Classification on CIFAR10 (ResNet)\n",
    "==================================\n",
    "\n",
    "Based on pytorch example for CIFAR10\n",
    "\"\"\"\n",
    "\n",
    "\n",
    "import sys\n",
    "from pathlib import Path \n",
    "sys.path.append(str(Path.cwd().parent.parent))\n",
    "import torch.optim\n",
    "from torchvision import datasets, transforms\n",
    "import torch.nn.functional as F\n",
    "from kymatio import Scattering2D\n",
    "import matplotlib.pyplot as plt\n",
    "import torch\n",
    "import torch.fft\n",
    "import argparse\n",
    "import kymatio.datasets as scattering_datasets\n",
    "from kymatio.scattering2d.core.scattering2d import scattering2d\n",
    "import torch.nn as nn\n",
    "from numpy.random import RandomState\n",
    "import numpy as np\n",
    "import pickle\n",
    "import time\n",
    "import mlflow\n",
    "import os\n",
    "from parametricSN.utils.context import get_context\n",
    "from parametricSN.utils.wavelet_visualization import get_filters_visualization\n",
    "from pathlib import Path\n",
    "import yaml\n",
    "import os\n",
    "import sys\n"
   ]
  },
  {
   "cell_type": "code",
   "execution_count": 2,
   "metadata": {},
   "outputs": [],
   "source": [
    "def construct_scattering(input, scattering, psi):\n",
    "    if not torch.is_tensor(input):\n",
    "        raise TypeError('The input should be a PyTorch Tensor.')\n",
    "\n",
    "    if len(input.shape) < 2:\n",
    "        raise RuntimeError('Input tensor must have at least two dimensions.')\n",
    "\n",
    "    if not input.is_contiguous():\n",
    "        raise RuntimeError('Tensor must be contiguous.')\n",
    "\n",
    "    if (input.shape[-1] != scattering.N or input.shape[-2] != scattering.M) and not scattering.pre_pad:\n",
    "        raise RuntimeError('Tensor must be of spatial size (%i,%i).' % (scattering.M, scattering.N))\n",
    "\n",
    "    if (input.shape[-1] != scattering.N_padded or input.shape[-2] != scattering_padded) and scattering.pre_pad:\n",
    "        raise RuntimeError('Padded tensor must be of spatial size (%i,%i).' % (scattering.M_padded, scattering.N_padded))\n",
    "\n",
    "    if not scattering.out_type in ('array', 'list'):\n",
    "        raise RuntimeError(\"The out_type must be one of 'array' or 'list'.\")\n",
    "\n",
    "    # phi, psi  = scattering.load_filters()\n",
    "    # make_filters_diff(psi)\n",
    "    # scattering.psi = psi\n",
    "\n",
    "    batch_shape = input.shape[:-2]\n",
    "    signal_shape = input.shape[-2:]\n",
    "\n",
    "    input = input.reshape((-1,) + signal_shape)\n",
    "\n",
    "    S = scattering2d(input, scattering.pad, scattering.unpad, scattering.backend, scattering.J,\n",
    "                        scattering.L, scattering.phi, psi, scattering.max_order, scattering.out_type)\n",
    "\n",
    "    if scattering.out_type == 'array':\n",
    "        scattering_shape = S.shape[-3:]\n",
    "        S = S.reshape(batch_shape + scattering_shape)\n",
    "    # else:\n",
    "    #     scattering_shape = S[0]['coef'].shape[-2:]\n",
    "    #     new_shape = batch_shape + scattering_shape\n",
    "\n",
    "    #     for x in S:\n",
    "    #         x['coef'] = x['coef'].reshape(new_shape)\n",
    "\n",
    "    return S"
   ]
  },
  {
   "cell_type": "code",
   "execution_count": 3,
   "metadata": {},
   "outputs": [],
   "source": [
    "def make_filters_diff(psi):\n",
    "    \"\"\" This function make the filters differentiable \"\"\"\n",
    "    # \n",
    "    filters = []\n",
    "    for j in range(len(psi)):\n",
    "        for k, v in psi[j].items():\n",
    "            if not isinstance(k, int):\n",
    "                continue\n",
    "            v.requires_grad = True\n",
    "            filters.append(v)\n",
    "    return filters"
   ]
  },
  {
   "cell_type": "code",
   "execution_count": 4,
   "metadata": {},
   "outputs": [],
   "source": [
    "class Identity(nn.Module):\n",
    "    def __init__(self, *args, **kwargs):\n",
    "        super().__init__()\n",
    "    def forward(self, x):\n",
    "        return x\n",
    "\n",
    "\n",
    "class LinearLayer(nn.Module):\n",
    "    def __init__(self, in_channels,  k=2, n=4, num_classes=10, standard=False):\n",
    "        super().__init__()\n",
    "        self.inplanes = 16 * k\n",
    "        self.ichannels = 16 * k * 3\n",
    "        if standard:\n",
    "            self.fc = nn.Linear(3*32*32, num_classes)\n",
    "        else:\n",
    "            self.fc = nn.Linear(3*64*81, num_classes)\n",
    "\n",
    "    def forward(self, x):\n",
    "        x = x.view(x.shape[0], -1)\n",
    "        return self.fc(x)\n",
    "\n",
    "\n"
   ]
  },
  {
   "cell_type": "code",
   "execution_count": 5,
   "metadata": {},
   "outputs": [],
   "source": [
    "def train(model, device, train_loader, is_scattering_dif, optimizer, epoch, scattering, psi):\n",
    "    model.train()\n",
    "    for batch_idx, (data, target) in enumerate(train_loader):\n",
    "        data, target = data.to(device), target.to(device, dtype=torch.long)\n",
    "        optimizer.zero_grad()\n",
    "        if is_scattering_dif:\n",
    "            data = construct_scattering(data, scattering, psi)\n",
    "        else:\n",
    "            data = scattering(data)\n",
    "        output = model(data)\n",
    "        loss = F.cross_entropy(output, target)\n",
    "        loss.backward()\n",
    "        optimizer.step()\n",
    "        if batch_idx % 50 == 0:\n",
    "            print('Train Epoch: {} [{}/{} ({:.0f}%)]\\tLoss: {:.6f}'.format(\n",
    "                epoch, batch_idx * len(data), len(train_loader.dataset),\n",
    "                100. * batch_idx / len(train_loader), loss.item()))\n",
    "\n",
    "def test(model, device, test_loader, is_scattering_dif, scattering, psi):\n",
    "    model.eval()\n",
    "    test_loss = 0\n",
    "    correct = 0\n",
    "    with torch.no_grad():\n",
    "        for data, target in test_loader:\n",
    "            data, target = data.to(device), target.to(device, dtype=torch.long)\n",
    "            if is_scattering_dif:\n",
    "                data = construct_scattering(data, scattering, psi)\n",
    "            else:\n",
    "                data = scattering(data)\n",
    "            output = model(data)\n",
    "            output = model(data)\n",
    "            test_loss += F.cross_entropy(output, target, size_average=False).item() # sum up batch loss\n",
    "            pred = output.max(1, keepdim=True)[1] # get the index of the max log-probability\n",
    "            correct += pred.eq(target.view_as(pred)).sum().item()\n",
    "\n",
    "    test_loss /= len(test_loader.dataset)\n",
    "    print('\\nTest set: Average loss: {:.4f}, Accuracy: {}/{} ({:.2f}%)\\n'.format(\n",
    "        test_loss, correct, len(test_loader.dataset),\n",
    "        100. * correct / len(test_loader.dataset)))\n",
    "    return 100. * correct / len(test_loader.dataset)"
   ]
  },
  {
   "cell_type": "code",
   "execution_count": 6,
   "metadata": {},
   "outputs": [],
   "source": [
    "# Get the current project path (where you open the notebook)\n",
    "# and go up two levels to get the project path\n",
    "current_dir = Path.cwd().parent.parent\n",
    "#proj_path = current_dir.parent\n",
    "proj_path = current_dir\n",
    "# make the code in src available to import in this notebook\n",
    "sys.path.append(os.path.join(proj_path, 'kymatio'))\n",
    "\n",
    "#Catalog contains all the paths related to datasets\n",
    "with open(os.path.join(proj_path, 'conf/data_catalog.yml'), \"r\") as f:\n",
    "    catalog = yaml.safe_load(f)\n",
    "\n",
    "# Params contains all of the dataset creation parameters and model parameters\n",
    "with open(os.path.join(proj_path, f'conf/parameters.yml'), \"r\") as f:\n",
    "    params = yaml.safe_load(f)"
   ]
  },
  {
   "cell_type": "code",
   "execution_count": 7,
   "metadata": {},
   "outputs": [
    {
     "ename": "KeyError",
     "evalue": "'mode'",
     "output_type": "error",
     "traceback": [
      "\u001b[0;31m---------------------------------------------------------------------------\u001b[0m",
      "\u001b[0;31mKeyError\u001b[0m                                  Traceback (most recent call last)",
      "\u001b[0;32m<ipython-input-7-f07830270769>\u001b[0m in \u001b[0;36m<module>\u001b[0;34m\u001b[0m\n\u001b[1;32m      2\u001b[0m \u001b[0mdevice\u001b[0m \u001b[0;34m=\u001b[0m \u001b[0mtorch\u001b[0m\u001b[0;34m.\u001b[0m\u001b[0mdevice\u001b[0m\u001b[0;34m(\u001b[0m\u001b[0;34m\"cuda\"\u001b[0m \u001b[0;32mif\u001b[0m \u001b[0muse_cuda\u001b[0m \u001b[0;32melse\u001b[0m \u001b[0;34m\"cpu\"\u001b[0m\u001b[0;34m)\u001b[0m\u001b[0;34m\u001b[0m\u001b[0m\n\u001b[1;32m      3\u001b[0m \u001b[0mis_scattering_dif\u001b[0m \u001b[0;34m=\u001b[0m \u001b[0;32mFalse\u001b[0m\u001b[0;34m\u001b[0m\u001b[0m\n\u001b[0;32m----> 4\u001b[0;31m \u001b[0;32mif\u001b[0m \u001b[0mparams\u001b[0m\u001b[0;34m[\u001b[0m\u001b[0;34m'model'\u001b[0m\u001b[0;34m]\u001b[0m\u001b[0;34m[\u001b[0m\u001b[0;34m'mode'\u001b[0m\u001b[0;34m]\u001b[0m \u001b[0;34m==\u001b[0m \u001b[0;34m'scattering_dif'\u001b[0m \u001b[0;32mor\u001b[0m \u001b[0mparams\u001b[0m\u001b[0;34m[\u001b[0m\u001b[0;34m'model'\u001b[0m\u001b[0;34m]\u001b[0m\u001b[0;34m[\u001b[0m\u001b[0;34m'mode'\u001b[0m\u001b[0;34m]\u001b[0m \u001b[0;34m==\u001b[0m \u001b[0;34m'scattering'\u001b[0m\u001b[0;34m:\u001b[0m\u001b[0;34m\u001b[0m\u001b[0m\n\u001b[0m\u001b[1;32m      5\u001b[0m     \u001b[0mJ\u001b[0m \u001b[0;34m=\u001b[0m \u001b[0mparams\u001b[0m\u001b[0;34m[\u001b[0m\u001b[0;34m'scattering'\u001b[0m\u001b[0;34m]\u001b[0m\u001b[0;34m[\u001b[0m\u001b[0;34m'J'\u001b[0m\u001b[0;34m]\u001b[0m\u001b[0;34m\u001b[0m\u001b[0m\n\u001b[1;32m      6\u001b[0m     \u001b[0mM\u001b[0m\u001b[0;34m,\u001b[0m \u001b[0mN\u001b[0m\u001b[0;34m=\u001b[0m \u001b[0mparams\u001b[0m\u001b[0;34m[\u001b[0m\u001b[0;34m'preprocess'\u001b[0m\u001b[0;34m]\u001b[0m\u001b[0;34m[\u001b[0m\u001b[0;34m'dimension'\u001b[0m\u001b[0;34m]\u001b[0m\u001b[0;34m[\u001b[0m\u001b[0;34m'M'\u001b[0m\u001b[0;34m]\u001b[0m\u001b[0;34m,\u001b[0m \u001b[0mparams\u001b[0m\u001b[0;34m[\u001b[0m\u001b[0;34m'preprocess'\u001b[0m\u001b[0;34m]\u001b[0m\u001b[0;34m[\u001b[0m\u001b[0;34m'dimension'\u001b[0m\u001b[0;34m]\u001b[0m\u001b[0;34m[\u001b[0m\u001b[0;34m'N'\u001b[0m\u001b[0;34m]\u001b[0m\u001b[0;34m\u001b[0m\u001b[0m\n",
      "\u001b[0;31mKeyError\u001b[0m: 'mode'"
     ]
    }
   ],
   "source": [
    "use_cuda = torch.cuda.is_available()\n",
    "device = torch.device(\"cuda\" if use_cuda else \"cpu\")\n",
    "is_scattering_dif = False\n",
    "if params['model']['mode'] == 'scattering_dif' or params['model']['mode'] == 'scattering':\n",
    "    J = params['scattering']['J']\n",
    "    M, N= params['preprocess']['dimension']['M'], params['preprocess']['dimension']['N']\n",
    "    scattering = Scattering2D(J=J, shape=(M, N))\n",
    "    K = 81*3\n",
    "    model = LinearLayer(K, params['model']['width']).to(device)\n",
    "    if use_cuda:\n",
    "        scattering = scattering.cuda()\n",
    "\n",
    "    phi, psi  = scattering.load_filters()\n",
    "    # visualize wavlet filters before training\n",
    "    filters_plots_before = {}\n",
    "    for mode in ['fourier','real', 'imag' ]:\n",
    "        f = get_filters_visualization(psi, num_row = 2 , num_col =8 , mode =mode)\n",
    "        filters_plots_before [mode]  = f  \n",
    "    if params['model']['mode'] == 'scattering_dif' :\n",
    "        lr_scattering = params['model']['lr_scattering']  \n",
    "        filters = make_filters_diff(psi)\n",
    "        is_scattering_dif = True\n",
    "\n",
    "else:\n",
    "    model = LinearLayer(8, params['model']['width'], standard=True).to(device)\n",
    "    scattering = Identity()\n",
    "    psi = None\n",
    "    filters_plots_before = {}\n",
    "\n",
    "\n",
    "# DataLoaders\n",
    "if use_cuda:\n",
    "    num_workers = 4\n",
    "    pin_memory = True\n",
    "else:\n",
    "    num_workers = 0\n",
    "    pin_memory = False\n",
    "\n",
    "normalize = transforms.Normalize(mean=[0.485, 0.456, 0.406],\n",
    "                                 std=[0.229, 0.224, 0.225])\n",
    "\n",
    "\n",
    "#####cifar data\n",
    "cifar_data = datasets.CIFAR10(root=scattering_datasets.get_dataset_dir('CIFAR'), train=True, transform=transforms.Compose([\n",
    "        transforms.RandomHorizontalFlip(),\n",
    "        transforms.RandomCrop(32, 4),\n",
    "        transforms.ToTensor(),\n",
    "        normalize,\n",
    "    ]), download=True)\n",
    "# Extract a subset of X samples per class\n",
    "prng = RandomState(params['model']['seed'])\n",
    "random_permute = prng.permutation(np.arange(0, 5000))[0:params['model']['num_samples']]\n",
    "indx = np.concatenate([np.where(np.array(cifar_data.targets) == classe)[0][random_permute] for classe in range(0, 10)])\n",
    "\n",
    "cifar_data.data, cifar_data.targets = cifar_data.data[indx], list(np.array(cifar_data.targets)[indx])\n",
    "train_loader = torch.utils.data.DataLoader(cifar_data,\n",
    "                                           batch_size=64, shuffle=True, num_workers=num_workers,\n",
    "                                           pin_memory=pin_memory)\n",
    "\n",
    "test_loader = torch.utils.data.DataLoader(\n",
    "    datasets.CIFAR10(root=scattering_datasets.get_dataset_dir('CIFAR'), train=False, transform=transforms.Compose([\n",
    "        transforms.ToTensor(),\n",
    "        normalize,\n",
    "    ])),\n",
    "    batch_size=32, shuffle=False, num_workers=num_workers, pin_memory=pin_memory)\n",
    "\n"
   ]
  },
  {
   "cell_type": "code",
   "execution_count": 26,
   "metadata": {},
   "outputs": [
    {
     "name": "stdout",
     "output_type": "stream",
     "text": [
      "Train Epoch: 1 [0/500 (0%)]\tLoss: 2.312511\n",
      "\n",
      "Test set: Average loss: 2.2106, Accuracy: 2617/10000 (26.17%)\n",
      "\n",
      "Train Epoch: 2 [0/500 (0%)]\tLoss: 2.256543\n",
      "Train Epoch: 3 [0/500 (0%)]\tLoss: 2.524125\n",
      "Train Epoch: 4 [0/500 (0%)]\tLoss: 2.277010\n",
      "Train Epoch: 5 [0/500 (0%)]\tLoss: 2.928206\n",
      "Train Epoch: 6 [0/500 (0%)]\tLoss: 2.535602\n",
      "Train Epoch: 7 [0/500 (0%)]\tLoss: 2.378175\n",
      "Train Epoch: 8 [0/500 (0%)]\tLoss: 2.233347\n",
      "Train Epoch: 9 [0/500 (0%)]\tLoss: 2.441675\n",
      "Train Epoch: 10 [0/500 (0%)]\tLoss: 2.296916\n",
      "Train Epoch: 11 [0/500 (0%)]\tLoss: 2.404501\n",
      "\n",
      "Test set: Average loss: 2.2858, Accuracy: 3481/10000 (34.81%)\n",
      "\n",
      "Train Epoch: 12 [0/500 (0%)]\tLoss: 1.959310\n",
      "Train Epoch: 13 [0/500 (0%)]\tLoss: 2.449455\n",
      "Train Epoch: 14 [0/500 (0%)]\tLoss: 2.575195\n",
      "Train Epoch: 15 [0/500 (0%)]\tLoss: 2.370441\n"
     ]
    }
   ],
   "source": [
    "# Optimizer\n",
    "lr = params['model']['lr']\n",
    "lr_scattering = params['model']['lr_scattering']  \n",
    "M = params['model']['learning_schedule_multi']\n",
    "drops = [60*M,120*M,160*M]\n",
    "test_acc = []\n",
    "start_time = time.time()\n",
    "for epoch in range(0, 15):\n",
    "    #for epoch in range(0, 1):\n",
    "        if epoch in drops or epoch==0:\n",
    "            if is_scattering_dif:\n",
    "                optimizer = torch.optim.SGD([{'params': filters, 'lr': lr_scattering}, \n",
    "                                        {'params': model.parameters()}], lr=lr, momentum=0.9,\n",
    "                                        weight_decay=0.0005)\n",
    "                lr_scattering*=0.2\n",
    "            else:\n",
    "                optimizer = torch.optim.SGD(model.parameters(), lr=lr, momentum=0.9,\n",
    "                                        weight_decay=0.0005)\n",
    "            lr*=0.2\n",
    "\n",
    "\n",
    "        train(model, device, train_loader, is_scattering_dif, optimizer, epoch+1, scattering, psi)\n",
    "        if epoch%10==0:\n",
    "            test_acc.append(test(model, device, test_loader, is_scattering_dif, scattering, psi))\n"
   ]
  },
  {
   "cell_type": "code",
   "execution_count": 9,
   "metadata": {},
   "outputs": [
    {
     "data": {
      "image/png": "[encoded data removed]",
      "text/plain": [
       "<Figure size 1440x360 with 16 Axes>"
      ]
     },
     "metadata": {
      "needs_background": "light"
     },
     "output_type": "display_data"
    },
    {
     "data": {
      "image/png": "[encoded data removed]",
      "text/plain": [
       "<Figure size 1440x360 with 16 Axes>"
      ]
     },
     "metadata": {
      "needs_background": "light"
     },
     "output_type": "display_data"
    },
    {
     "data": {
      "image/png": "[encoded data removed]",
      "text/plain": [
       "<Figure size 1440x360 with 16 Axes>"
      ]
     },
     "metadata": {
      "needs_background": "light"
     },
     "output_type": "display_data"
    }
   ],
   "source": [
    "#visualize filters\n",
    "filters_plots_after= {}\n",
    "if psi is not None:\n",
    "    for mode in ['fourier','real', 'imag' ]:\n",
    "        f = get_filters_visualization(psi, num_row = 2 , num_col =8 , mode =mode)\n",
    "        filters_plots_after[mode]  = f  "
   ]
  },
  {
   "cell_type": "code",
   "execution_count": null,
   "metadata": {},
   "outputs": [],
   "source": [
    "gaussian_bases = torch.randn(25, 2, 2)\n",
    "wave_vectors = gaussian_bases[:, 0]\n",
    "norm_factors = (gaussian_bases[:, 0] * gaussian_bases[:, 1]).sum(1) / (gaussian_bases[:, 0] * gaussian_bases[:, 0]).sum(1)\n",
    "gaussian_bases[:, 1] -=  norm_factors[..., np.newaxis] * gaussian_bases[:, 0]\n",
    "some_morlets = raw_morlets((64, 64), wave_vectors, gaussian_bases , fft=False, ifftshift=False)\n",
    "\n"
   ]
  },
  {
   "cell_type": "code",
   "execution_count": 23,
   "metadata": {},
   "outputs": [
    {
     "name": "stderr",
     "output_type": "stream",
     "text": [
      "/NOBACKUP/gauthiers/kymatio_mod/kymatio/frontend/entry.py:21: DeprecationWarning: Torch frontend is currently the default, but NumPy will become the default in the next version.\n",
      "  \" version.\", DeprecationWarning)\n"
     ]
    }
   ],
   "source": [
    "\n",
    "use_cuda = torch.cuda.is_available()\n",
    "device = torch.device(\"cuda\" if use_cuda else \"cpu\")\n",
    "is_scattering_dif = False\n",
    "J = params['scattering']['J']\n",
    "scattering = Scattering2D(J=J, shape=(32, 32))\n",
    "K = 81*3\n",
    "model = LinearLayer(K, params['model']['width']).to(device)\n",
    "if use_cuda:\n",
    "    scattering = scattering.cuda()\n"
   ]
  },
  {
   "cell_type": "code",
   "execution_count": 24,
   "metadata": {},
   "outputs": [],
   "source": [
    "def create_filters_params(J, L):\n",
    "    '''\n",
    "        Create reusable filters parameters: orientations, xis, sigmas, sigmas\n",
    "    '''\n",
    "    orientations = []\n",
    "    xis = []\n",
    "    sigmas = []\n",
    "    slants = []\n",
    "\n",
    "    for j in range(J):\n",
    "        for theta in range(L):\n",
    "            sigma = 0.8 * 2**j\n",
    "            sigmas.append(0.8 * 2**j)\n",
    "            theta = ((int(L-L/2-1)-theta) * np.pi / L)\n",
    "            xis.append(3.0 / 4.0 * np.pi /2**j)\n",
    "            slant = 4.0/L\n",
    "            slants.append(slant)\n",
    "            \n",
    "            #orientations.append(np.array([[np.cos(theta), -np.sin(theta)], [np.sin(theta), np.cos(theta)]], np.float32))\n",
    "            #R = np.array([[np.cos(theta), -np.sin(theta)], [np.sin(theta), np.cos(theta)]], np.float32)\n",
    "            D = np.array([[1, 0], [0, slant * slant]])\n",
    "            R_inv = np.array([[np.cos(theta), np.sin(theta)], [-np.sin(theta), np.cos(theta)]], np.float32)\n",
    "            #orientations.append( (np.dot(R, np.dot(D, R_inv)) / ( 2 * sigma * sigma)))\n",
    "            orientations.append(R_inv)\n",
    "             \n",
    "    xis = torch.FloatTensor(xis)\n",
    "    sigmas = torch.FloatTensor(sigmas)\n",
    "    slants = torch.FloatTensor(slants)\n",
    "    orientations = torch.FloatTensor(orientations)   \n",
    "    return orientations[:, 0], xis, sigmas, slants"
   ]
  },
  {
   "cell_type": "code",
   "execution_count": 9,
   "metadata": {},
   "outputs": [],
   "source": [
    "def create_filters_params(J, L, is_scattering_dif, ndim):\n",
    "    n_filters = J*L\n",
    "    sigmas = np.log(np.random.uniform(np.exp(0), np.exp(3), n_filters ))\n",
    "    # For the orientation, choose uniform on the circle \n",
    "    #(can init some 2d gaussian values then divide by their norm \n",
    "    # or take complex exponential/ cos & sin of uniform between 0 and 2pi).\n",
    "    orientations = np.random.normal(0,1,(n_filters,ndim)) \n",
    "    norm = np.linalg.norm(orientations, axis=1).reshape(orientations.shape[0], 1)\n",
    "    orientations = orientations/norm\n",
    "    slants = np.random.uniform(0.5, 1.5,n_filters )# like uniform between 0.5 and 1.5.\n",
    "    xis = np.random.uniform(1, 2, n_filters )\n",
    "    \n",
    "    xis = torch.FloatTensor(xis)\n",
    "    sigmas = torch.FloatTensor(sigmas)\n",
    "    slants = torch.FloatTensor(slants)\n",
    "    orientations = torch.FloatTensor(orientations) \n",
    "    params = [orientations, xis, sigmas, slants]\n",
    "    if is_scattering_dif:\n",
    "        for param in params:\n",
    "            param.requires_grad = True\n",
    "    return  params"
   ]
  },
  {
   "cell_type": "code",
   "execution_count": 10,
   "metadata": {},
   "outputs": [],
   "source": [
    "def morlets(grid_or_shape, orientations, xis, sigmas, slants, device=None, morlet=True, ifftshift=True, fft=True):\n",
    "    n_filters, ndim = orientations.shape\n",
    "    if device is None:\n",
    "        device = orientations.device\n",
    "    orientations = orientations / (torch.norm(orientations, dim=1, keepdim=True) + 1e-19)\n",
    "    wave_vectors = orientations * xis[:, np.newaxis]\n",
    "    _, _, gauss_directions = torch.linalg.svd(orientations[:, np.newaxis])\n",
    "    gauss_directions = gauss_directions / sigmas[:, np.newaxis, np.newaxis]\n",
    "    indicator = torch.arange(ndim) < 1\n",
    "    slant_modifications = (1.0 * indicator + slants[:, np.newaxis] * ~indicator).to(gauss_directions.device)\n",
    "    gauss_directions = gauss_directions * slant_modifications[:, :, np.newaxis]\n",
    "    wavelets = raw_morlets(grid_or_shape, wave_vectors, gauss_directions, morlet=morlet, \n",
    "                          ifftshift=ifftshift, fft=fft)\n",
    "    \n",
    "    norm_factors = (2 * 3.1415 * sigmas * sigmas / slants).unsqueeze(1)\n",
    "    norm_factors = norm_factors.expand([n_filters,grid_or_shape[0]]).unsqueeze(2).repeat(1,1,grid_or_shape[1])\n",
    "    wavelets = wavelets / norm_factors\n",
    "    return wavelets"
   ]
  },
  {
   "cell_type": "code",
   "execution_count": 11,
   "metadata": {},
   "outputs": [],
   "source": [
    "def raw_morlets(grid_or_shape, wave_vectors, gaussian_bases, morlet=True, ifftshift=True, fft=True):\n",
    "    n_filters, n_dim = wave_vectors.shape\n",
    "    assert gaussian_bases.shape == (n_filters, n_dim, n_dim)\n",
    "    device = wave_vectors.device\n",
    "    if isinstance(grid_or_shape, tuple):\n",
    "        shape = grid_or_shape\n",
    "        ranges = [torch.arange(-(s // 2), -(s // 2) + s, device=device, dtype=torch.float) for s in shape]\n",
    "        grid = torch.stack(torch.meshgrid(*ranges), 0)\n",
    "    else:\n",
    "        shape = grid_or_shape.shape\n",
    "        grid = grid\n",
    "        _or_shape\n",
    "    waves = torch.exp(1.0j * torch.matmul(grid.T, wave_vectors.T).T)\n",
    "    gaussian_directions = torch.matmul(grid.T, gaussian_bases.T.reshape(n_dim, n_dim * n_filters)).T\n",
    "    gaussian_directions = gaussian_directions.reshape((n_dim, n_filters) + shape)\n",
    "    radii = torch.norm(gaussian_directions, dim=0)\n",
    "    gaussians = torch.exp(-0.5 * radii ** 2)\n",
    "    signal_dims = list(range(1, n_dim + 1))\n",
    "    gabors = gaussians * waves\n",
    "    gabors = gabors\n",
    "    if morlet:\n",
    "        gaussian_sums = gaussians.sum(dim=signal_dims, keepdim=True)\n",
    "        gabor_sums = gabors.sum(dim=signal_dims, keepdim=True).real\n",
    "        morlets = gabors - gabor_sums / gaussian_sums * gaussians\n",
    "        filters = morlets\n",
    "    else:\n",
    "        filters = gabors\n",
    "    if ifftshift:\n",
    "        filters = torch.fft.ifftshift(filters, dim=signal_dims)\n",
    "    if fft:\n",
    "        filters = torch.fft.fftn(filters, dim=signal_dims)\n",
    "    return filters"
   ]
  },
  {
   "cell_type": "code",
   "execution_count": 47,
   "metadata": {},
   "outputs": [],
   "source": [
    "n_filters =16"
   ]
  },
  {
   "cell_type": "code",
   "execution_count": 49,
   "metadata": {},
   "outputs": [
    {
     "data": {
      "text/plain": [
       "8"
      ]
     },
     "execution_count": 49,
     "metadata": {},
     "output_type": "execute_result"
    }
   ],
   "source": [
    "n_filters - int(n_filters/2)"
   ]
  },
  {
   "cell_type": "code",
   "execution_count": 58,
   "metadata": {},
   "outputs": [
    {
     "data": {
      "text/plain": [
       "(16,)"
      ]
     },
     "execution_count": 58,
     "metadata": {},
     "output_type": "execute_result"
    }
   ],
   "source": [
    "sigmas.shape"
   ]
  },
  {
   "cell_type": "code",
   "execution_count": 56,
   "metadata": {},
   "outputs": [],
   "source": [
    "sigmas = np.concatenate((np.log(np.random.uniform(np.exp(0), np.exp(3), int(n_filters/2) )),\n",
    "                            np.log(np.random.uniform(np.exp(0), np.exp(5), n_filters - int(n_filters/2) ))))"
   ]
  },
  {
   "cell_type": "code",
   "execution_count": 13,
   "metadata": {},
   "outputs": [],
   "source": [
    "def create_filters_params(J, L):\n",
    "    '''\n",
    "        Create reusable filters parameters: orientations, xis, sigmas, sigmas\n",
    "    '''\n",
    "    orientations = []\n",
    "    xis = []\n",
    "    sigmas = []\n",
    "    slants = []\n",
    "\n",
    "    for j in range(J):\n",
    "        for theta in range(L):\n",
    "            sigma = 0.8 * 2**j\n",
    "            sigmas.append(0.8 * 2**j)\n",
    "            theta = ((int(L-L/2-1)-theta) * np.pi / L)\n",
    "            xis.append(3.0 / 4.0 * np.pi /2**j)\n",
    "            slant = 4.0/L\n",
    "            slants.append(slant)\n",
    "            \n",
    "            #orientations.append(np.array([[np.cos(theta), -np.sin(theta)], [np.sin(theta), np.cos(theta)]], np.float32))\n",
    "            #R = np.array([[np.cos(theta), -np.sin(theta)], [np.sin(theta), np.cos(theta)]], np.float32)\n",
    "            D = np.array([[1, 0], [0, slant * slant]])\n",
    "            R_inv = np.array([[np.cos(theta), np.sin(theta)], [-np.sin(theta), np.cos(theta)]], np.float32)\n",
    "            #orientations.append( (np.dot(R, np.dot(D, R_inv)) / ( 2 * sigma * sigma)))\n",
    "            orientations.append(R_inv)\n",
    "             \n",
    "    xis = torch.FloatTensor(xis)\n",
    "    sigmas = torch.FloatTensor(sigmas)\n",
    "    slants = torch.FloatTensor(slants)\n",
    "    orientations = torch.FloatTensor(orientations)   \n",
    "    return orientations[:, 0], xis, sigmas, slants"
   ]
  },
  {
   "cell_type": "code",
   "execution_count": 438,
   "metadata": {},
   "outputs": [],
   "source": [
    "def create_filters_params_random(n_filters , is_scattering_dif, ndim, seed=0):\n",
    "    #n_filters = J*L\n",
    "    np.random.seed(seed)\n",
    "    \n",
    "    # For the orientation, choose uniform on the circle \n",
    "    #(can init some 2d gaussian values then divide by their norm \n",
    "    # or take complex exponential/ cos & sin of uniform between 0 and 2pi).\n",
    "    orientations = np.random.normal(0,1,(n_filters,ndim)) \n",
    "    norm = np.linalg.norm(orientations, axis=1).reshape(orientations.shape[0], 1)\n",
    "    orientations = orientations/norm\n",
    "    slants = np.random.uniform(0.5, 1.5,n_filters )# like uniform between 0.5 and 1.5.\n",
    "    xis = np.random.uniform(1, 2, n_filters )\n",
    "    #sigmas = np.random.uniform(1, 2,n_filters )\n",
    "    \n",
    "    \n",
    "    sigmas = np.concatenate((np.log(np.random.uniform(np.exp(1), np.exp(3), int(n_filters/2) )),\n",
    "                            np.log(np.random.uniform(np.exp(3), np.exp(5), n_filters - int(n_filters/2) ))))\n",
    "    \n",
    "    xis = torch.FloatTensor(xis)\n",
    "    sigmas = torch.FloatTensor(sigmas)\n",
    "    slants = torch.FloatTensor(slants)\n",
    "    orientations = torch.FloatTensor(orientations) \n",
    "    params = [orientations, xis, sigmas, slants]\n",
    "\n",
    "    if is_scattering_dif:\n",
    "        for param in params:\n",
    "            param.requires_grad = True\n",
    "    return  params\n"
   ]
  },
  {
   "cell_type": "code",
   "execution_count": 439,
   "metadata": {},
   "outputs": [],
   "source": [
    "sigmas = np.concatenate((np.log(np.random.uniform(np.exp(1), np.exp(3), int(n_filters/2) )),\n",
    "                            np.log(np.random.uniform(np.exp(3), np.exp(5), n_filters - int(n_filters/2) ))))"
   ]
  },
  {
   "cell_type": "code",
   "execution_count": 440,
   "metadata": {},
   "outputs": [
    {
     "data": {
      "text/plain": [
       "tensor([2.2348, 2.0087, 2.1811, 2.3787, 2.4625, 2.1207, 2.5525, 2.4717, 4.0341,\n",
       "        4.3100, 4.7874, 3.6480, 3.8029, 4.7418, 4.8793, 3.5617])"
      ]
     },
     "execution_count": 440,
     "metadata": {},
     "output_type": "execute_result"
    }
   ],
   "source": [
    "torch.FloatTensor(sigmas)"
   ]
  },
  {
   "cell_type": "code",
   "execution_count": 441,
   "metadata": {},
   "outputs": [],
   "source": [
    "orientations, xis, sigmas, slants = create_filters_params_random(16 , True,2, seed=1223726078)"
   ]
  },
  {
   "cell_type": "code",
   "execution_count": 442,
   "metadata": {},
   "outputs": [],
   "source": [
    "wavelets = morlets((40, 40), orientations, xis, sigmas, slants, morlet=True, ifftshift=True, fft=True)"
   ]
  },
  {
   "cell_type": "code",
   "execution_count": 443,
   "metadata": {},
   "outputs": [
    {
     "name": "stderr",
     "output_type": "stream",
     "text": [
      "/NOBACKUP/gauthiers/kymatio_mod/kymatio/frontend/entry.py:21: DeprecationWarning: Torch frontend is currently the default, but NumPy will become the default in the next version.\n",
      "  \" version.\", DeprecationWarning)\n"
     ]
    }
   ],
   "source": [
    "use_cuda = torch.cuda.is_available()\n",
    "device = torch.device(\"cuda\" if use_cuda else \"cpu\")\n",
    "is_scattering_dif = False\n",
    "J = params['scattering']['J']\n",
    "scattering = Scattering2D(J=2, shape=(32, 32))\n",
    "K = 81*3\n",
    "model = LinearLayer(K, params['model']['width']).to(device)\n",
    "if use_cuda:\n",
    "    scattering = scattering.cuda()"
   ]
  },
  {
   "cell_type": "code",
   "execution_count": 444,
   "metadata": {},
   "outputs": [],
   "source": [
    "phi, psi  = scattering.load_filters()\n",
    "for i,d in enumerate(psi):\n",
    "    d[0]=wavelets[i].unsqueeze(2).real.contiguous().to(device)"
   ]
  },
  {
   "cell_type": "code",
   "execution_count": 446,
   "metadata": {},
   "outputs": [
    {
     "data": {
      "image/png": "[encoded data removed]",
      "text/plain": [
       "<Figure size 2000x400 with 16 Axes>"
      ]
     },
     "execution_count": 446,
     "metadata": {},
     "output_type": "execute_result"
    }
   ],
   "source": [
    "get_filters_visualization(psi, 2, 8, 16, mode ='fourier')"
   ]
  },
  {
   "cell_type": "code",
   "execution_count": 385,
   "metadata": {},
   "outputs": [],
   "source": [
    "def get_filters_visualization(psi, J,L, n_filters, mode ='fourier'):\n",
    "    '''\n",
    "        Function that logs the metrics on MLFLOW\n",
    "        Params: \n",
    "        filters: psi filters\n",
    "        num_row: number of rows in the visualization\n",
    "        num_col: number of columns in the visualization\n",
    "        mode: fourier, real or imag\n",
    "    '''\n",
    "    num_rows = int(n_filters/L) \n",
    "    num_col = L\n",
    "    f, axarr = plt.subplots(num_rows, num_col, figsize=(20, 2*num_rows))\n",
    "    start_row = 0\n",
    "    for scale in range(J-1):\n",
    "        count = L * scale\n",
    "        end_row = (J-scale) + start_row \n",
    "        for i in range(start_row, end_row) :\n",
    "            for j in range(0, L) :\n",
    "                if mode =='fourier':\n",
    "                    x =np.fft.fftshift(psi[count][scale].squeeze().cpu().detach().numpy()).real\n",
    "                elif mode == 'real':\n",
    "                    x= np.fft.fftshift(np.fft.ifft2(psi[count][scale].squeeze().cpu().detach().numpy())).real\n",
    "                elif mode == 'imag':\n",
    "                    x= np.fft.fftshift(np.fft.ifft2(psi[count][scale].squeeze().cpu().detach().numpy())).imag\n",
    "                else:\n",
    "                    raise NotImplemented(f\"Model {params['name']} not implemented\")\n",
    "                \n",
    "                axarr[i,j].imshow(x)\n",
    "                axarr[i,j].set_title(f\"J:{psi[count]['j']} L: {psi[count]['theta']}, S:{scale} \")\n",
    "                axarr[i,j].axis('off')\n",
    "                count = count +1\n",
    "                axarr[i,j].set_xticklabels([])\n",
    "                axarr[i,j].set_yticklabels([])\n",
    "                axarr[i,j].set_aspect('equal')\n",
    "        start_row = end_row\n",
    "\n",
    "    f.subplots_adjust(wspace=0, hspace=0.2)\n",
    "    return f"
   ]
  },
  {
   "cell_type": "code",
   "execution_count": 8,
   "metadata": {},
   "outputs": [],
   "source": [
    "def get_filters_visualization(psi, num_row = 2 , num_col =8 , mode ='fourier'):\n",
    "    '''\n",
    "        Function that logs the metrics on MLFLOW\n",
    "        Params: \n",
    "        filters: psi filters\n",
    "        num_row: number of rows in the visualization\n",
    "        num_col: number of columns in the visualization\n",
    "        mode: fourier, real or imag\n",
    "    '''\n",
    "    f, axarr = plt.subplots(num_row,num_col, figsize=(20, 5))\n",
    "    count = 0\n",
    "    for i in range(0, num_row) :\n",
    "        for j in range(0, num_col) :\n",
    "            if mode =='fourier':\n",
    "                x =np.fft.fftshift(psi[count].squeeze().cpu().detach().numpy()).real\n",
    "            elif mode == 'real':\n",
    "                x= np.fft.fftshift(np.fft.ifft2(psi[count].squeeze().cpu().detach().numpy())).real\n",
    "            elif mode == 'imag':\n",
    "                x= np.fft.fftshift(np.fft.ifft2(psi[count].squeeze().cpu().detach().numpy())).imag\n",
    "            else:\n",
    "                raise NotImplemented(f\"Model {params['name']} not implemented\")\n",
    "            axarr[i,j].imshow(x)\n",
    "            #axarr[i,j].set_title(f\"J:{psi[count]['j']} L: {psi[count]['theta']}\")\n",
    "            axarr[i,j].axis('off')\n",
    "            count = count +1\n",
    "            axarr[i,j].set_xticklabels([])\n",
    "            axarr[i,j].set_yticklabels([])\n",
    "            axarr[i,j].set_aspect('equal')\n",
    "\n",
    "    f.subplots_adjust(wspace=0, hspace=0.2)\n",
    "    return f"
   ]
  },
  {
   "cell_type": "code",
   "execution_count": null,
   "metadata": {},
   "outputs": [],
   "source": []
  }
 ],
 "metadata": {
  "kernelspec": {
   "display_name": "Python [conda env:.conda-ultra] *",
   "language": "python",
   "name": "conda-env-.conda-ultra-py"
  },
  "language_info": {
   "codemirror_mode": {
    "name": "ipython",
    "version": 3
   },
   "file_extension": ".py",
   "mimetype": "text/x-python",
   "name": "python",
   "nbconvert_exporter": "python",
   "pygments_lexer": "ipython3",
   "version": "3.7.0"
  }
 },
 "nbformat": 4,
 "nbformat_minor": 5
}
