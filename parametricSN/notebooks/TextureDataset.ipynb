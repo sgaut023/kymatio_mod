{
 "cells": [
  {
   "cell_type": "code",
   "execution_count": 2,
   "metadata": {},
   "outputs": [],
   "source": [
    "from glob import glob\n",
    "import shutil\n",
    "import os\n",
    "from tqdm import tqdm\n",
    "    "
   ]
  },
  {
   "cell_type": "code",
   "execution_count": 80,
   "metadata": {},
   "outputs": [
    {
     "data": {
      "text/plain": [
       "'/NOBACKUP/gauthiers/KTH-TIPS2-b'"
      ]
     },
     "execution_count": 80,
     "metadata": {},
     "output_type": "execute_result"
    }
   ],
   "source": [
    "new_folder = folder[:31]\n",
    "new_folder"
   ]
  },
  {
   "cell_type": "code",
   "execution_count": 86,
   "metadata": {},
   "outputs": [
    {
     "data": {
      "text/plain": [
       "'sample_b'"
      ]
     },
     "execution_count": 86,
     "metadata": {},
     "output_type": "execute_result"
    }
   ],
   "source": [
    "sample = folders[i][-8:]\n",
    "sample"
   ]
  },
  {
   "cell_type": "code",
   "execution_count": 82,
   "metadata": {},
   "outputs": [
    {
     "data": {
      "text/plain": [
       "'wool'"
      ]
     },
     "execution_count": 82,
     "metadata": {},
     "output_type": "execute_result"
    }
   ],
   "source": [
    "label = folder[32:-9]\n",
    "label"
   ]
  },
  {
   "cell_type": "code",
   "execution_count": 91,
   "metadata": {},
   "outputs": [
    {
     "data": {
      "text/plain": [
       "'/NOBACKUP/gauthiers/KTH-TIPS2-bv2/sample_a/white_bread'"
      ]
     },
     "execution_count": 91,
     "metadata": {},
     "output_type": "execute_result"
    }
   ],
   "source": [
    "destination_path = new_folder.replace(\"KTH-TIPS2-b\", f'KTH-TIPS2-bv2/{sample}/{label}')\n",
    "destination_path"
   ]
  },
  {
   "cell_type": "code",
   "execution_count": 93,
   "metadata": {},
   "outputs": [
    {
     "name": "stderr",
     "output_type": "stream",
     "text": [
      "  0%|          | 0/44 [00:00<?, ?it/s]\n",
      "  0%|          | 0/108 [00:00<?, ?it/s]\u001b[A\n",
      " 25%|██▌       | 27/108 [00:00<00:00, 262.83it/s]\u001b[A"
     ]
    },
    {
     "name": "stdout",
     "output_type": "stream",
     "text": [
      "/NOBACKUP/gauthiers/KTH/sample_c/cotton\n"
     ]
    },
    {
     "name": "stderr",
     "output_type": "stream",
     "text": [
      "\n",
      " 50%|█████     | 54/108 [00:00<00:00, 260.70it/s]\u001b[A\n",
      " 75%|███████▌  | 81/108 [00:00<00:00, 260.29it/s]\u001b[A\n",
      "100%|██████████| 108/108 [00:00<00:00, 258.72it/s]\u001b[A\n",
      "  2%|▏         | 1/44 [00:00<00:18,  2.36it/s]\n",
      "  0%|          | 0/108 [00:00<?, ?it/s]\u001b[A\n",
      " 26%|██▌       | 28/108 [00:00<00:00, 270.08it/s]\u001b[A"
     ]
    },
    {
     "name": "stdout",
     "output_type": "stream",
     "text": [
      "/NOBACKUP/gauthiers/KTH/sample_d/cotton\n"
     ]
    },
    {
     "name": "stderr",
     "output_type": "stream",
     "text": [
      "\n",
      " 52%|█████▏    | 56/108 [00:00<00:00, 266.44it/s]\u001b[A\n",
      "100%|██████████| 108/108 [00:00<00:00, 263.66it/s][A\n",
      "  5%|▍         | 2/44 [00:00<00:17,  2.38it/s]\n",
      "  0%|          | 0/108 [00:00<?, ?it/s]\u001b[A\n",
      " 25%|██▌       | 27/108 [00:00<00:00, 267.50it/s]\u001b[A"
     ]
    },
    {
     "name": "stdout",
     "output_type": "stream",
     "text": [
      "/NOBACKUP/gauthiers/KTH/sample_b/cotton\n"
     ]
    },
    {
     "name": "stderr",
     "output_type": "stream",
     "text": [
      "\n",
      " 50%|█████     | 54/108 [00:00<00:00, 265.56it/s]\u001b[A\n",
      " 75%|███████▌  | 81/108 [00:00<00:00, 264.61it/s]\u001b[A\n",
      "100%|██████████| 108/108 [00:00<00:00, 262.77it/s]\u001b[A\n",
      "  7%|▋         | 3/44 [00:01<00:17,  2.38it/s]\n",
      "  0%|          | 0/108 [00:00<?, ?it/s]\u001b[A\n",
      " 25%|██▌       | 27/108 [00:00<00:00, 266.09it/s]\u001b[A"
     ]
    },
    {
     "name": "stdout",
     "output_type": "stream",
     "text": [
      "/NOBACKUP/gauthiers/KTH/sample_a/cotton\n"
     ]
    },
    {
     "name": "stderr",
     "output_type": "stream",
     "text": [
      "\n",
      " 50%|█████     | 54/108 [00:00<00:00, 263.63it/s]\u001b[A\n",
      " 75%|███████▌  | 81/108 [00:00<00:00, 263.93it/s]\u001b[A\n",
      "100%|██████████| 108/108 [00:00<00:00, 263.72it/s]\u001b[A\n",
      "  9%|▉         | 4/44 [00:01<00:16,  2.39it/s]\n",
      "  0%|          | 0/108 [00:00<?, ?it/s]\u001b[A\n",
      " 23%|██▎       | 25/108 [00:00<00:00, 248.59it/s]\u001b[A"
     ]
    },
    {
     "name": "stdout",
     "output_type": "stream",
     "text": [
      "/NOBACKUP/gauthiers/KTH/sample_c/cork\n"
     ]
    },
    {
     "name": "stderr",
     "output_type": "stream",
     "text": [
      "\n",
      " 46%|████▋     | 50/108 [00:00<00:00, 245.98it/s]\u001b[A\n",
      " 69%|██████▉   | 75/108 [00:00<00:00, 245.86it/s]\u001b[A\n",
      "100%|██████████| 108/108 [00:00<00:00, 245.35it/s]\u001b[A\n",
      " 11%|█▏        | 5/44 [00:02<00:16,  2.33it/s]\n",
      "  0%|          | 0/108 [00:00<?, ?it/s]\u001b[A\n",
      " 24%|██▍       | 26/108 [00:00<00:00, 253.84it/s]\u001b[A"
     ]
    },
    {
     "name": "stdout",
     "output_type": "stream",
     "text": [
      "/NOBACKUP/gauthiers/KTH/sample_d/cork\n"
     ]
    },
    {
     "name": "stderr",
     "output_type": "stream",
     "text": [
      "\n",
      " 48%|████▊     | 52/108 [00:00<00:00, 249.49it/s]\u001b[A\n",
      " 71%|███████▏  | 77/108 [00:00<00:00, 249.08it/s]\u001b[A\n",
      "100%|██████████| 108/108 [00:00<00:00, 248.20it/s]\u001b[A\n",
      " 14%|█▎        | 6/44 [00:02<00:16,  2.31it/s]\n",
      "  0%|          | 0/108 [00:00<?, ?it/s]\u001b[A\n",
      " 24%|██▍       | 26/108 [00:00<00:00, 253.94it/s]\u001b[A"
     ]
    },
    {
     "name": "stdout",
     "output_type": "stream",
     "text": [
      "/NOBACKUP/gauthiers/KTH/sample_b/cork\n"
     ]
    },
    {
     "name": "stderr",
     "output_type": "stream",
     "text": [
      "\n",
      " 48%|████▊     | 52/108 [00:00<00:00, 248.92it/s]\u001b[A\n",
      " 71%|███████▏  | 77/108 [00:00<00:00, 247.40it/s]\u001b[A\n",
      "100%|██████████| 108/108 [00:00<00:00, 247.64it/s]\u001b[A\n",
      " 16%|█▌        | 7/44 [00:03<00:16,  2.29it/s]\n",
      "  0%|          | 0/108 [00:00<?, ?it/s]\u001b[A\n",
      " 24%|██▍       | 26/108 [00:00<00:00, 256.40it/s]\u001b[A"
     ]
    },
    {
     "name": "stdout",
     "output_type": "stream",
     "text": [
      "/NOBACKUP/gauthiers/KTH/sample_a/cork\n"
     ]
    },
    {
     "name": "stderr",
     "output_type": "stream",
     "text": [
      "\n",
      " 48%|████▊     | 52/108 [00:00<00:00, 253.32it/s]\u001b[A\n",
      " 72%|███████▏  | 78/108 [00:00<00:00, 252.71it/s]\u001b[A\n",
      "100%|██████████| 108/108 [00:00<00:00, 251.19it/s]\u001b[A\n",
      " 18%|█▊        | 8/44 [00:03<00:15,  2.29it/s]\n",
      "  0%|          | 0/108 [00:00<?, ?it/s]\u001b[A\n",
      " 24%|██▍       | 26/108 [00:00<00:00, 254.31it/s]\u001b[A"
     ]
    },
    {
     "name": "stdout",
     "output_type": "stream",
     "text": [
      "/NOBACKUP/gauthiers/KTH/sample_c/cracker\n"
     ]
    },
    {
     "name": "stderr",
     "output_type": "stream",
     "text": [
      "\n",
      " 48%|████▊     | 52/108 [00:00<00:00, 250.39it/s]\u001b[A\n",
      " 72%|███████▏  | 78/108 [00:00<00:00, 249.80it/s]\u001b[A\n",
      "100%|██████████| 108/108 [00:00<00:00, 248.19it/s]\u001b[A\n",
      " 20%|██        | 9/44 [00:03<00:15,  2.28it/s]\n",
      "  0%|          | 0/108 [00:00<?, ?it/s]\u001b[A\n",
      " 24%|██▍       | 26/108 [00:00<00:00, 254.36it/s]\u001b[A"
     ]
    },
    {
     "name": "stdout",
     "output_type": "stream",
     "text": [
      "/NOBACKUP/gauthiers/KTH/sample_d/cracker\n"
     ]
    },
    {
     "name": "stderr",
     "output_type": "stream",
     "text": [
      "\n",
      " 48%|████▊     | 52/108 [00:00<00:00, 251.99it/s]\u001b[A\n",
      " 72%|███████▏  | 78/108 [00:00<00:00, 248.01it/s]\u001b[A\n",
      "100%|██████████| 108/108 [00:00<00:00, 247.82it/s]\u001b[A\n",
      " 23%|██▎       | 10/44 [00:04<00:14,  2.28it/s]\n",
      "  0%|          | 0/108 [00:00<?, ?it/s]\u001b[A\n",
      " 24%|██▍       | 26/108 [00:00<00:00, 259.23it/s]\u001b[A"
     ]
    },
    {
     "name": "stdout",
     "output_type": "stream",
     "text": [
      "/NOBACKUP/gauthiers/KTH/sample_b/cracker\n"
     ]
    },
    {
     "name": "stderr",
     "output_type": "stream",
     "text": [
      "\n",
      " 48%|████▊     | 52/108 [00:00<00:00, 256.30it/s]\u001b[A\n",
      " 73%|███████▎  | 79/108 [00:00<00:00, 258.01it/s]\u001b[A\n",
      "100%|██████████| 108/108 [00:00<00:00, 254.32it/s]\u001b[A\n",
      " 25%|██▌       | 11/44 [00:04<00:14,  2.29it/s]\n",
      "  0%|          | 0/108 [00:00<?, ?it/s]\u001b[A\n",
      " 25%|██▌       | 27/108 [00:00<00:00, 263.11it/s]\u001b[A"
     ]
    },
    {
     "name": "stdout",
     "output_type": "stream",
     "text": [
      "/NOBACKUP/gauthiers/KTH/sample_a/cracker\n"
     ]
    },
    {
     "name": "stderr",
     "output_type": "stream",
     "text": [
      "\n",
      " 50%|█████     | 54/108 [00:00<00:00, 259.54it/s]\u001b[A\n",
      " 74%|███████▍  | 80/108 [00:00<00:00, 258.38it/s]\u001b[A\n",
      "100%|██████████| 108/108 [00:00<00:00, 255.81it/s]\u001b[A\n",
      " 27%|██▋       | 12/44 [00:05<00:13,  2.30it/s]\n",
      "  0%|          | 0/108 [00:00<?, ?it/s]\u001b[A\n",
      " 23%|██▎       | 25/108 [00:00<00:00, 243.64it/s]\u001b[A"
     ]
    },
    {
     "name": "stdout",
     "output_type": "stream",
     "text": [
      "/NOBACKUP/gauthiers/KTH/sample_c/aluminium_foil\n"
     ]
    },
    {
     "name": "stderr",
     "output_type": "stream",
     "text": [
      "\n",
      " 46%|████▋     | 50/108 [00:00<00:00, 242.43it/s]\u001b[A\n",
      " 69%|██████▉   | 75/108 [00:00<00:00, 245.06it/s]\u001b[A\n",
      "100%|██████████| 108/108 [00:00<00:00, 244.26it/s]\u001b[A\n",
      " 30%|██▉       | 13/44 [00:05<00:13,  2.28it/s]\n",
      "  0%|          | 0/108 [00:00<?, ?it/s]\u001b[A\n",
      " 22%|██▏       | 24/108 [00:00<00:00, 232.94it/s]\u001b[A"
     ]
    },
    {
     "name": "stdout",
     "output_type": "stream",
     "text": [
      "/NOBACKUP/gauthiers/KTH/sample_d/aluminium_foil\n"
     ]
    },
    {
     "name": "stderr",
     "output_type": "stream",
     "text": [
      "\n",
      " 44%|████▍     | 48/108 [00:00<00:00, 234.45it/s]\u001b[A\n",
      " 67%|██████▋   | 72/108 [00:00<00:00, 235.85it/s]\u001b[A\n",
      "100%|██████████| 108/108 [00:00<00:00, 235.70it/s][A\n",
      " 32%|███▏      | 14/44 [00:06<00:13,  2.24it/s]\n",
      "  0%|          | 0/108 [00:00<?, ?it/s]\u001b[A\n",
      " 24%|██▍       | 26/108 [00:00<00:00, 250.79it/s]\u001b[A"
     ]
    },
    {
     "name": "stdout",
     "output_type": "stream",
     "text": [
      "/NOBACKUP/gauthiers/KTH/sample_b/aluminium_foil\n"
     ]
    },
    {
     "name": "stderr",
     "output_type": "stream",
     "text": [
      "\n",
      " 48%|████▊     | 52/108 [00:00<00:00, 249.07it/s]\u001b[A\n",
      " 72%|███████▏  | 78/108 [00:00<00:00, 250.38it/s]\u001b[A\n",
      "100%|██████████| 108/108 [00:00<00:00, 248.97it/s]\u001b[A\n",
      " 34%|███▍      | 15/44 [00:06<00:12,  2.25it/s]\n",
      "  0%|          | 0/108 [00:00<?, ?it/s]\u001b[A\n",
      " 24%|██▍       | 26/108 [00:00<00:00, 250.11it/s]\u001b[A"
     ]
    },
    {
     "name": "stdout",
     "output_type": "stream",
     "text": [
      "/NOBACKUP/gauthiers/KTH/sample_a/aluminium_foil\n"
     ]
    },
    {
     "name": "stderr",
     "output_type": "stream",
     "text": [
      "\n",
      " 48%|████▊     | 52/108 [00:00<00:00, 247.89it/s]\u001b[A\n",
      " 71%|███████▏  | 77/108 [00:00<00:00, 247.76it/s]\u001b[A\n",
      "100%|██████████| 108/108 [00:00<00:00, 246.64it/s]\u001b[A\n",
      " 36%|███▋      | 16/44 [00:06<00:12,  2.25it/s]\n",
      "  0%|          | 0/108 [00:00<?, ?it/s]\u001b[A\n",
      " 26%|██▌       | 28/108 [00:00<00:00, 274.02it/s]\u001b[A"
     ]
    },
    {
     "name": "stdout",
     "output_type": "stream",
     "text": [
      "/NOBACKUP/gauthiers/KTH/sample_c/wood\n"
     ]
    },
    {
     "name": "stderr",
     "output_type": "stream",
     "text": [
      "\n",
      " 52%|█████▏    | 56/108 [00:00<00:00, 268.84it/s]\u001b[A\n",
      "100%|██████████| 108/108 [00:00<00:00, 268.46it/s][A\n",
      " 39%|███▊      | 17/44 [00:07<00:11,  2.30it/s]\n",
      "  0%|          | 0/108 [00:00<?, ?it/s]\u001b[A\n",
      " 26%|██▌       | 28/108 [00:00<00:00, 270.72it/s]\u001b[A"
     ]
    },
    {
     "name": "stdout",
     "output_type": "stream",
     "text": [
      "/NOBACKUP/gauthiers/KTH/sample_d/wood\n"
     ]
    },
    {
     "name": "stderr",
     "output_type": "stream",
     "text": [
      "\n",
      " 52%|█████▏    | 56/108 [00:00<00:00, 269.15it/s]\u001b[A\n",
      "100%|██████████| 108/108 [00:00<00:00, 265.74it/s][A\n",
      " 41%|████      | 18/44 [00:07<00:11,  2.34it/s]\n",
      "  0%|          | 0/108 [00:00<?, ?it/s]\u001b[A\n",
      " 25%|██▌       | 27/108 [00:00<00:00, 263.73it/s]\u001b[A"
     ]
    },
    {
     "name": "stdout",
     "output_type": "stream",
     "text": [
      "/NOBACKUP/gauthiers/KTH/sample_b/wood\n"
     ]
    },
    {
     "name": "stderr",
     "output_type": "stream",
     "text": [
      "\n",
      " 50%|█████     | 54/108 [00:00<00:00, 267.00it/s]\u001b[A\n",
      "100%|██████████| 108/108 [00:00<00:00, 268.44it/s][A\n",
      " 43%|████▎     | 19/44 [00:08<00:10,  2.37it/s]\n",
      "  0%|          | 0/108 [00:00<?, ?it/s]\u001b[A\n",
      " 25%|██▌       | 27/108 [00:00<00:00, 265.62it/s]\u001b[A"
     ]
    },
    {
     "name": "stdout",
     "output_type": "stream",
     "text": [
      "/NOBACKUP/gauthiers/KTH/sample_a/wood\n"
     ]
    },
    {
     "name": "stderr",
     "output_type": "stream",
     "text": [
      "\n",
      " 50%|█████     | 54/108 [00:00<00:00, 265.58it/s]\u001b[A\n",
      " 75%|███████▌  | 81/108 [00:00<00:00, 265.08it/s]\u001b[A\n",
      "100%|██████████| 108/108 [00:00<00:00, 262.25it/s]\u001b[A\n",
      " 45%|████▌     | 20/44 [00:08<00:10,  2.37it/s]\n",
      "  0%|          | 0/108 [00:00<?, ?it/s]\u001b[A\n",
      " 22%|██▏       | 24/108 [00:00<00:00, 237.72it/s]\u001b[A"
     ]
    },
    {
     "name": "stdout",
     "output_type": "stream",
     "text": [
      "/NOBACKUP/gauthiers/KTH/sample_c/linen\n"
     ]
    },
    {
     "name": "stderr",
     "output_type": "stream",
     "text": [
      "\n",
      " 44%|████▍     | 48/108 [00:00<00:00, 234.47it/s]\u001b[A\n",
      " 67%|██████▋   | 72/108 [00:00<00:00, 233.91it/s]\u001b[A\n",
      "100%|██████████| 108/108 [00:00<00:00, 233.24it/s][A\n",
      " 48%|████▊     | 21/44 [00:09<00:10,  2.29it/s]\n",
      "  0%|          | 0/108 [00:00<?, ?it/s]\u001b[A\n",
      " 22%|██▏       | 24/108 [00:00<00:00, 238.51it/s]\u001b[A"
     ]
    },
    {
     "name": "stdout",
     "output_type": "stream",
     "text": [
      "/NOBACKUP/gauthiers/KTH/sample_d/linen\n"
     ]
    },
    {
     "name": "stderr",
     "output_type": "stream",
     "text": [
      "\n",
      " 44%|████▍     | 48/108 [00:00<00:00, 235.69it/s]\u001b[A\n",
      " 67%|██████▋   | 72/108 [00:00<00:00, 233.94it/s]\u001b[A\n",
      "100%|██████████| 108/108 [00:00<00:00, 233.73it/s][A\n",
      " 50%|█████     | 22/44 [00:09<00:09,  2.24it/s]\n",
      "  0%|          | 0/108 [00:00<?, ?it/s]\u001b[A\n",
      " 23%|██▎       | 25/108 [00:00<00:00, 241.37it/s]\u001b[A"
     ]
    },
    {
     "name": "stdout",
     "output_type": "stream",
     "text": [
      "/NOBACKUP/gauthiers/KTH/sample_b/linen\n"
     ]
    },
    {
     "name": "stderr",
     "output_type": "stream",
     "text": [
      "\n",
      " 46%|████▋     | 50/108 [00:00<00:00, 238.02it/s]\u001b[A\n",
      " 69%|██████▊   | 74/108 [00:00<00:00, 236.84it/s]\u001b[A\n",
      "100%|██████████| 108/108 [00:00<00:00, 235.86it/s][A\n",
      " 52%|█████▏    | 23/44 [00:10<00:09,  2.21it/s]\n",
      "  0%|          | 0/108 [00:00<?, ?it/s]\u001b[A\n",
      " 23%|██▎       | 25/108 [00:00<00:00, 241.43it/s]\u001b[A"
     ]
    },
    {
     "name": "stdout",
     "output_type": "stream",
     "text": [
      "/NOBACKUP/gauthiers/KTH/sample_a/linen\n"
     ]
    },
    {
     "name": "stderr",
     "output_type": "stream",
     "text": [
      "\n",
      " 46%|████▋     | 50/108 [00:00<00:00, 237.26it/s]\u001b[A\n",
      " 69%|██████▊   | 74/108 [00:00<00:00, 237.36it/s]\u001b[A\n",
      "100%|██████████| 108/108 [00:00<00:00, 236.09it/s][A\n",
      " 55%|█████▍    | 24/44 [00:10<00:09,  2.20it/s]\n",
      "  0%|          | 0/108 [00:00<?, ?it/s]\u001b[A\n",
      " 24%|██▍       | 26/108 [00:00<00:00, 251.82it/s]\u001b[A"
     ]
    },
    {
     "name": "stdout",
     "output_type": "stream",
     "text": [
      "/NOBACKUP/gauthiers/KTH/sample_c/corduroy\n"
     ]
    },
    {
     "name": "stderr",
     "output_type": "stream",
     "text": [
      "\n",
      " 48%|████▊     | 52/108 [00:00<00:00, 250.26it/s]\u001b[A\n",
      " 72%|███████▏  | 78/108 [00:00<00:00, 248.14it/s]\u001b[A\n",
      "100%|██████████| 108/108 [00:00<00:00, 247.42it/s]\u001b[A\n",
      " 57%|█████▋    | 25/44 [00:10<00:08,  2.21it/s]\n",
      "  0%|          | 0/108 [00:00<?, ?it/s]\u001b[A\n",
      " 24%|██▍       | 26/108 [00:00<00:00, 256.55it/s]\u001b[A"
     ]
    },
    {
     "name": "stdout",
     "output_type": "stream",
     "text": [
      "/NOBACKUP/gauthiers/KTH/sample_d/corduroy\n"
     ]
    },
    {
     "name": "stderr",
     "output_type": "stream",
     "text": [
      "\n",
      " 48%|████▊     | 52/108 [00:00<00:00, 253.31it/s]\u001b[A\n",
      " 72%|███████▏  | 78/108 [00:00<00:00, 250.84it/s]\u001b[A\n",
      "100%|██████████| 108/108 [00:00<00:00, 249.40it/s]\u001b[A\n",
      " 59%|█████▉    | 26/44 [00:11<00:08,  2.23it/s]\n",
      "  0%|          | 0/108 [00:00<?, ?it/s]\u001b[A\n",
      " 23%|██▎       | 25/108 [00:00<00:00, 247.34it/s]\u001b[A"
     ]
    },
    {
     "name": "stdout",
     "output_type": "stream",
     "text": [
      "/NOBACKUP/gauthiers/KTH/sample_b/corduroy\n"
     ]
    },
    {
     "name": "stderr",
     "output_type": "stream",
     "text": [
      "\n",
      " 46%|████▋     | 50/108 [00:00<00:00, 243.74it/s]\u001b[A\n",
      " 69%|██████▉   | 75/108 [00:00<00:00, 243.88it/s]\u001b[A\n",
      "100%|██████████| 108/108 [00:00<00:00, 243.18it/s]\u001b[A\n",
      " 61%|██████▏   | 27/44 [00:11<00:07,  2.23it/s]\n",
      "  0%|          | 0/108 [00:00<?, ?it/s]\u001b[A\n",
      " 24%|██▍       | 26/108 [00:00<00:00, 256.19it/s]\u001b[A"
     ]
    },
    {
     "name": "stdout",
     "output_type": "stream",
     "text": [
      "/NOBACKUP/gauthiers/KTH/sample_a/corduroy\n"
     ]
    },
    {
     "name": "stderr",
     "output_type": "stream",
     "text": [
      "\n",
      " 48%|████▊     | 52/108 [00:00<00:00, 253.50it/s]\u001b[A\n",
      " 72%|███████▏  | 78/108 [00:00<00:00, 254.47it/s]\u001b[A\n",
      "100%|██████████| 108/108 [00:00<00:00, 253.51it/s]\u001b[A\n",
      " 64%|██████▎   | 28/44 [00:12<00:07,  2.25it/s]\n",
      "  0%|          | 0/108 [00:00<?, ?it/s]\u001b[A\n",
      " 24%|██▍       | 26/108 [00:00<00:00, 254.92it/s]\u001b[A"
     ]
    },
    {
     "name": "stdout",
     "output_type": "stream",
     "text": [
      "/NOBACKUP/gauthiers/KTH/sample_c/lettuce_leaf\n"
     ]
    },
    {
     "name": "stderr",
     "output_type": "stream",
     "text": [
      "\n",
      " 48%|████▊     | 52/108 [00:00<00:00, 251.60it/s]\u001b[A\n",
      " 72%|███████▏  | 78/108 [00:00<00:00, 248.56it/s]\u001b[A\n",
      "100%|██████████| 108/108 [00:00<00:00, 246.92it/s]\u001b[A\n",
      " 66%|██████▌   | 29/44 [00:12<00:06,  2.25it/s]\n",
      "  0%|          | 0/108 [00:00<?, ?it/s]\u001b[A\n",
      " 24%|██▍       | 26/108 [00:00<00:00, 253.60it/s]\u001b[A"
     ]
    },
    {
     "name": "stdout",
     "output_type": "stream",
     "text": [
      "/NOBACKUP/gauthiers/KTH/sample_d/lettuce_leaf\n"
     ]
    },
    {
     "name": "stderr",
     "output_type": "stream",
     "text": [
      "\n",
      " 48%|████▊     | 52/108 [00:00<00:00, 249.88it/s]\u001b[A\n",
      " 72%|███████▏  | 78/108 [00:00<00:00, 250.24it/s]\u001b[A\n",
      "100%|██████████| 108/108 [00:00<00:00, 248.31it/s]\u001b[A\n",
      " 68%|██████▊   | 30/44 [00:13<00:06,  2.26it/s]\n",
      "  0%|          | 0/108 [00:00<?, ?it/s]\u001b[A\n",
      " 24%|██▍       | 26/108 [00:00<00:00, 255.42it/s]\u001b[A"
     ]
    },
    {
     "name": "stdout",
     "output_type": "stream",
     "text": [
      "/NOBACKUP/gauthiers/KTH/sample_b/lettuce_leaf\n"
     ]
    },
    {
     "name": "stderr",
     "output_type": "stream",
     "text": [
      "\n",
      " 48%|████▊     | 52/108 [00:00<00:00, 250.71it/s]\u001b[A\n",
      " 72%|███████▏  | 78/108 [00:00<00:00, 250.70it/s]\u001b[A\n",
      "100%|██████████| 108/108 [00:00<00:00, 250.14it/s]\u001b[A\n",
      " 70%|███████   | 31/44 [00:13<00:05,  2.26it/s]\n",
      "  0%|          | 0/108 [00:00<?, ?it/s]\u001b[A\n",
      " 24%|██▍       | 26/108 [00:00<00:00, 256.45it/s]\u001b[A"
     ]
    },
    {
     "name": "stdout",
     "output_type": "stream",
     "text": [
      "/NOBACKUP/gauthiers/KTH/sample_a/lettuce_leaf\n"
     ]
    },
    {
     "name": "stderr",
     "output_type": "stream",
     "text": [
      "\n",
      " 48%|████▊     | 52/108 [00:00<00:00, 252.90it/s]\u001b[A\n",
      " 72%|███████▏  | 78/108 [00:00<00:00, 251.74it/s]\u001b[A\n",
      "100%|██████████| 108/108 [00:00<00:00, 250.28it/s]\u001b[A\n",
      " 73%|███████▎  | 32/44 [00:14<00:05,  2.27it/s]\n",
      "  0%|          | 0/108 [00:00<?, ?it/s]\u001b[A\n",
      " 22%|██▏       | 24/108 [00:00<00:00, 234.57it/s]\u001b[A"
     ]
    },
    {
     "name": "stdout",
     "output_type": "stream",
     "text": [
      "/NOBACKUP/gauthiers/KTH/sample_c/wool\n"
     ]
    },
    {
     "name": "stderr",
     "output_type": "stream",
     "text": [
      "\n",
      " 44%|████▍     | 48/108 [00:00<00:00, 231.58it/s]\u001b[A\n",
      " 67%|██████▋   | 72/108 [00:00<00:00, 231.99it/s]\u001b[A\n",
      "100%|██████████| 108/108 [00:00<00:00, 230.78it/s][A\n",
      " 75%|███████▌  | 33/44 [00:14<00:04,  2.22it/s]\n",
      "  0%|          | 0/108 [00:00<?, ?it/s]\u001b[A\n",
      " 23%|██▎       | 25/108 [00:00<00:00, 242.32it/s]\u001b[A"
     ]
    },
    {
     "name": "stdout",
     "output_type": "stream",
     "text": [
      "/NOBACKUP/gauthiers/KTH/sample_d/wool\n"
     ]
    },
    {
     "name": "stderr",
     "output_type": "stream",
     "text": [
      "\n",
      " 46%|████▋     | 50/108 [00:00<00:00, 239.53it/s]\u001b[A\n",
      " 69%|██████▉   | 75/108 [00:00<00:00, 239.99it/s]\u001b[A\n",
      "100%|██████████| 108/108 [00:00<00:00, 238.50it/s][A\n",
      " 77%|███████▋  | 34/44 [00:14<00:04,  2.20it/s]\n",
      "  0%|          | 0/108 [00:00<?, ?it/s]\u001b[A\n",
      " 23%|██▎       | 25/108 [00:00<00:00, 246.03it/s]\u001b[A"
     ]
    },
    {
     "name": "stdout",
     "output_type": "stream",
     "text": [
      "/NOBACKUP/gauthiers/KTH/sample_b/wool\n"
     ]
    },
    {
     "name": "stderr",
     "output_type": "stream",
     "text": [
      "\n",
      " 46%|████▋     | 50/108 [00:00<00:00, 241.22it/s]\u001b[A\n",
      " 69%|██████▉   | 75/108 [00:00<00:00, 240.77it/s]\u001b[A\n",
      "100%|██████████| 108/108 [00:00<00:00, 239.24it/s]\u001b[A\n",
      " 80%|███████▉  | 35/44 [00:15<00:04,  2.20it/s]\n",
      "  0%|          | 0/108 [00:00<?, ?it/s]\u001b[A\n",
      " 23%|██▎       | 25/108 [00:00<00:00, 247.49it/s]\u001b[A"
     ]
    },
    {
     "name": "stdout",
     "output_type": "stream",
     "text": [
      "/NOBACKUP/gauthiers/KTH/sample_a/wool\n"
     ]
    },
    {
     "name": "stderr",
     "output_type": "stream",
     "text": [
      "\n",
      " 46%|████▋     | 50/108 [00:00<00:00, 243.86it/s]\u001b[A\n",
      " 69%|██████▉   | 75/108 [00:00<00:00, 243.54it/s]\u001b[A\n",
      "100%|██████████| 108/108 [00:00<00:00, 242.41it/s]\u001b[A\n",
      " 82%|████████▏ | 36/44 [00:15<00:03,  2.20it/s]\n",
      "  0%|          | 0/108 [00:00<?, ?it/s]\u001b[A\n",
      " 23%|██▎       | 25/108 [00:00<00:00, 244.48it/s]\u001b[A"
     ]
    },
    {
     "name": "stdout",
     "output_type": "stream",
     "text": [
      "/NOBACKUP/gauthiers/KTH/sample_c/brown_bread\n"
     ]
    },
    {
     "name": "stderr",
     "output_type": "stream",
     "text": [
      "\n",
      " 46%|████▋     | 50/108 [00:00<00:00, 243.87it/s]\u001b[A\n",
      " 69%|██████▉   | 75/108 [00:00<00:00, 244.14it/s]\u001b[A\n",
      "100%|██████████| 108/108 [00:00<00:00, 243.05it/s]\u001b[A\n",
      " 84%|████████▍ | 37/44 [00:16<00:03,  2.20it/s]\n",
      "  0%|          | 0/108 [00:00<?, ?it/s]\u001b[A\n",
      " 24%|██▍       | 26/108 [00:00<00:00, 250.50it/s]\u001b[A"
     ]
    },
    {
     "name": "stdout",
     "output_type": "stream",
     "text": [
      "/NOBACKUP/gauthiers/KTH/sample_d/brown_bread\n"
     ]
    },
    {
     "name": "stderr",
     "output_type": "stream",
     "text": [
      "\n",
      " 48%|████▊     | 52/108 [00:00<00:00, 247.37it/s]\u001b[A\n",
      " 71%|███████▏  | 77/108 [00:00<00:00, 244.89it/s]\u001b[A\n",
      "100%|██████████| 108/108 [00:00<00:00, 242.93it/s]\u001b[A\n",
      " 86%|████████▋ | 38/44 [00:16<00:02,  2.21it/s]\n",
      "  0%|          | 0/108 [00:00<?, ?it/s]\u001b[A\n",
      " 24%|██▍       | 26/108 [00:00<00:00, 251.36it/s]\u001b[A"
     ]
    },
    {
     "name": "stdout",
     "output_type": "stream",
     "text": [
      "/NOBACKUP/gauthiers/KTH/sample_b/brown_bread\n"
     ]
    },
    {
     "name": "stderr",
     "output_type": "stream",
     "text": [
      "\n",
      " 48%|████▊     | 52/108 [00:00<00:00, 249.34it/s]\u001b[A\n",
      " 71%|███████▏  | 77/108 [00:00<00:00, 248.86it/s]\u001b[A\n",
      "100%|██████████| 108/108 [00:00<00:00, 246.92it/s]\u001b[A\n",
      " 89%|████████▊ | 39/44 [00:17<00:02,  2.22it/s]\n",
      "  0%|          | 0/108 [00:00<?, ?it/s]\u001b[A\n",
      " 23%|██▎       | 25/108 [00:00<00:00, 245.99it/s]\u001b[A"
     ]
    },
    {
     "name": "stdout",
     "output_type": "stream",
     "text": [
      "/NOBACKUP/gauthiers/KTH/sample_a/brown_bread\n"
     ]
    },
    {
     "name": "stderr",
     "output_type": "stream",
     "text": [
      "\n",
      " 46%|████▋     | 50/108 [00:00<00:00, 242.85it/s]\u001b[A\n",
      " 69%|██████▉   | 75/108 [00:00<00:00, 242.49it/s]\u001b[A\n",
      "100%|██████████| 108/108 [00:00<00:00, 241.96it/s]\u001b[A\n",
      " 91%|█████████ | 40/44 [00:17<00:01,  2.22it/s]\n",
      "  0%|          | 0/108 [00:00<?, ?it/s]\u001b[A\n",
      " 25%|██▌       | 27/108 [00:00<00:00, 262.86it/s]\u001b[A"
     ]
    },
    {
     "name": "stdout",
     "output_type": "stream",
     "text": [
      "/NOBACKUP/gauthiers/KTH/sample_c/white_bread\n"
     ]
    },
    {
     "name": "stderr",
     "output_type": "stream",
     "text": [
      "\n",
      " 50%|█████     | 54/108 [00:00<00:00, 259.05it/s]\u001b[A\n",
      " 74%|███████▍  | 80/108 [00:00<00:00, 257.50it/s]\u001b[A\n",
      "100%|██████████| 108/108 [00:00<00:00, 257.51it/s]\u001b[A\n",
      " 93%|█████████▎| 41/44 [00:18<00:01,  2.25it/s]\n",
      "  0%|          | 0/108 [00:00<?, ?it/s]\u001b[A\n",
      " 25%|██▌       | 27/108 [00:00<00:00, 268.73it/s]\u001b[A"
     ]
    },
    {
     "name": "stdout",
     "output_type": "stream",
     "text": [
      "/NOBACKUP/gauthiers/KTH/sample_d/white_bread\n"
     ]
    },
    {
     "name": "stderr",
     "output_type": "stream",
     "text": [
      "\n",
      " 50%|█████     | 54/108 [00:00<00:00, 263.02it/s]\u001b[A\n",
      " 75%|███████▌  | 81/108 [00:00<00:00, 263.54it/s]\u001b[A\n",
      "100%|██████████| 108/108 [00:00<00:00, 261.76it/s]\u001b[A\n",
      " 95%|█████████▌| 42/44 [00:18<00:00,  2.29it/s]\n",
      "  0%|          | 0/108 [00:00<?, ?it/s]\u001b[A\n",
      " 25%|██▌       | 27/108 [00:00<00:00, 267.85it/s]\u001b[A"
     ]
    },
    {
     "name": "stdout",
     "output_type": "stream",
     "text": [
      "/NOBACKUP/gauthiers/KTH/sample_b/white_bread\n"
     ]
    },
    {
     "name": "stderr",
     "output_type": "stream",
     "text": [
      "\n",
      " 50%|█████     | 54/108 [00:00<00:00, 266.26it/s]\u001b[A\n",
      " 75%|███████▌  | 81/108 [00:00<00:00, 265.75it/s]\u001b[A\n",
      "100%|██████████| 108/108 [00:00<00:00, 264.90it/s]\u001b[A\n",
      " 98%|█████████▊| 43/44 [00:18<00:00,  2.33it/s]\n",
      "  0%|          | 0/108 [00:00<?, ?it/s]\u001b[A\n",
      " 26%|██▌       | 28/108 [00:00<00:00, 273.41it/s]\u001b[A"
     ]
    },
    {
     "name": "stdout",
     "output_type": "stream",
     "text": [
      "/NOBACKUP/gauthiers/KTH/sample_a/white_bread\n"
     ]
    },
    {
     "name": "stderr",
     "output_type": "stream",
     "text": [
      "\n",
      " 52%|█████▏    | 56/108 [00:00<00:00, 267.25it/s]\u001b[A\n",
      "100%|██████████| 108/108 [00:00<00:00, 265.22it/s][A\n",
      "100%|██████████| 44/44 [00:19<00:00,  2.27it/s]"
     ]
    },
    {
     "name": "stdout",
     "output_type": "stream",
     "text": [
      "CPU times: user 1.74 s, sys: 2.99 s, total: 4.74 s\n",
      "Wall time: 19.4 s\n"
     ]
    },
    {
     "name": "stderr",
     "output_type": "stream",
     "text": [
      "\n"
     ]
    }
   ],
   "source": [
    "%%time\n",
    "folders = glob(\"/NOBACKUP/gauthiers/KTH-TIPS2-b/*/*\")\n",
    "for folder in tqdm(folders):\n",
    "    new_folder = folder[:31]\n",
    "    sample = folder[-8:]\n",
    "    label = folder[32:-9]\n",
    "    destination_path = new_folder.replace(\"KTH-TIPS2-b\", f'KTH/{sample}/{label}')\n",
    "    print(destination_path)\n",
    "    if not os.path.exists(destination_path):\n",
    "        os.makedirs(destination_path)   \n",
    "    pattern = f'{folder}*/*' \n",
    "    for img in tqdm(glob(pattern)):\n",
    "        shutil.copy(img, destination_path)\n"
   ]
  },
  {
   "cell_type": "code",
   "execution_count": 5,
   "metadata": {},
   "outputs": [],
   "source": [
    "# %%time\n",
    "# for folder in tqdm(folders):\n",
    "#     destination_path = folder.replace(\"KTH-TIPS2-b\", \"KTH-TIPS2-bv2\")\n",
    "#     if not os.path.exists(destination_path):\n",
    "#         os.makedirs(destination_path)   \n",
    "#     pattern = f'{folder}*/*' \n",
    "#     for img in tqdm(glob(pattern)):\n",
    "#         shutil.copy(img, destination_path)"
   ]
  },
  {
   "cell_type": "code",
   "execution_count": null,
   "metadata": {},
   "outputs": [],
   "source": [
    "pattern = f'{folders[0]}*/*' "
   ]
  },
  {
   "cell_type": "code",
   "execution_count": 96,
   "metadata": {},
   "outputs": [],
   "source": [
    "import matplotlib.pyplot as plt\n",
    "from PIL import Image"
   ]
  },
  {
   "cell_type": "code",
   "execution_count": 97,
   "metadata": {},
   "outputs": [
    {
     "data": {
      "image/png": "[encoded data removed]",
      "text/plain": [
       "<PIL.PngImagePlugin.PngImageFile image mode=RGB size=200x200 at 0x7F87C6B9ADD8>"
      ]
     },
     "execution_count": 97,
     "metadata": {},
     "output_type": "execute_result"
    }
   ],
   "source": [
    "Image.open('/NOBACKUP/gauthiers/KTH/sample_a/wood/54a-scale_10_im_10_col.png')"
   ]
  },
  {
   "cell_type": "markdown",
   "metadata": {},
   "source": [
    "# Explora dataset\n"
   ]
  },
  {
   "cell_type": "code",
   "execution_count": null,
   "metadata": {},
   "outputs": [],
   "source": []
  }
 ],
 "metadata": {
  "kernelspec": {
   "display_name": "Python [conda env:.conda-ultra] *",
   "language": "python",
   "name": "conda-env-.conda-ultra-py"
  },
  "language_info": {
   "codemirror_mode": {
    "name": "ipython",
    "version": 3
   },
   "file_extension": ".py",
   "mimetype": "text/x-python",
   "name": "python",
   "nbconvert_exporter": "python",
   "pygments_lexer": "ipython3",
   "version": "3.7.0"
  }
 },
 "nbformat": 4,
 "nbformat_minor": 4
}
